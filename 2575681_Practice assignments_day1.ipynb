{
 "cells": [
  {
   "cell_type": "markdown",
   "id": "b8509591",
   "metadata": {},
   "source": [
    "# 1.Manipulate using a string\n",
    "i) To add new elements to the end of the list"
   ]
  },
  {
   "cell_type": "code",
   "execution_count": 8,
   "id": "f9ba07dd",
   "metadata": {},
   "outputs": [
    {
     "name": "stdout",
     "output_type": "stream",
     "text": [
      "[1, 2, 3, 4]\n"
     ]
    }
   ],
   "source": [
    "list=[1 , 2, 3]\n",
    "list.append(4)\n",
    "print(list)"
   ]
  },
  {
   "cell_type": "code",
   "execution_count": 10,
   "id": "397e944e",
   "metadata": {},
   "outputs": [
    {
     "name": "stdout",
     "output_type": "stream",
     "text": [
      "[3, 2, 1]\n"
     ]
    }
   ],
   "source": [
    "# ii) To reverse elements in the list\n",
    "list=[1,2,3]\n",
    "list.reverse()\n",
    "print(list)"
   ]
  },
  {
   "cell_type": "code",
   "execution_count": 13,
   "id": "bd7cb1d4",
   "metadata": {},
   "outputs": [
    {
     "name": "stdout",
     "output_type": "stream",
     "text": [
      "[1, 2, 3, 1, 2, 3, 1, 2, 3, 1, 2, 3, 1, 2, 3]\n"
     ]
    }
   ],
   "source": [
    "#to display the same list of multiple times\n",
    "list=[1,2,3]\n",
    "lst=list * 5\n",
    "print(lst)"
   ]
  },
  {
   "cell_type": "code",
   "execution_count": 15,
   "id": "b35c64c8",
   "metadata": {},
   "outputs": [
    {
     "name": "stdout",
     "output_type": "stream",
     "text": [
      "[1, 2, 3, 20, 42, 39]\n"
     ]
    }
   ],
   "source": [
    "#to concatenate two lists\n",
    "lst1=[1,2,3]\n",
    "lst2=[20,42,39]\n",
    "list=lst1+lst2\n",
    "print(list)"
   ]
  },
  {
   "cell_type": "code",
   "execution_count": 16,
   "id": "e7f54d2d",
   "metadata": {},
   "outputs": [
    {
     "name": "stdout",
     "output_type": "stream",
     "text": [
      "[1, 2, 3, 20, 39, 42]\n"
     ]
    }
   ],
   "source": [
    "#to sort the elements in the list in ascending order\n",
    "list.sort()\n",
    "print(list)"
   ]
  },
  {
   "cell_type": "markdown",
   "id": "97a09394",
   "metadata": {},
   "source": [
    "# 2. Write a python program to do in tuples.\n",
    "#To add new elements to the end of the tuples\n"
   ]
  },
  {
   "cell_type": "code",
   "execution_count": 31,
   "id": "faca10c9",
   "metadata": {},
   "outputs": [
    {
     "name": "stdout",
     "output_type": "stream",
     "text": [
      "(2, 6, 10, 4)\n"
     ]
    }
   ],
   "source": [
    "a=(2,6,10)\n",
    "add_elements = a + (4,)\n",
    "print(add_elements)"
   ]
  },
  {
   "cell_type": "code",
   "execution_count": 32,
   "id": "9e298c86",
   "metadata": {},
   "outputs": [
    {
     "name": "stdout",
     "output_type": "stream",
     "text": [
      "(4, 3, 2, 1)\n"
     ]
    }
   ],
   "source": [
    "#to reverse elements in tuple\n",
    "a=(1,2,3,4)\n",
    "b=a[::-1]\n",
    "print(b)"
   ]
  },
  {
   "cell_type": "code",
   "execution_count": 33,
   "id": "045894a4",
   "metadata": {},
   "outputs": [
    {
     "name": "stdout",
     "output_type": "stream",
     "text": [
      "(1, 2, 3, 4, 1, 2, 3, 4, 1, 2, 3, 4, 1, 2, 3, 4)\n"
     ]
    }
   ],
   "source": [
    "#to display the elements of the same tuple multiple times\n",
    "a=(1,2,3,4)\n",
    "mul_tuple = a*4\n",
    "print(mul_tuple)"
   ]
  },
  {
   "cell_type": "code",
   "execution_count": 35,
   "id": "0f1b7d53",
   "metadata": {},
   "outputs": [
    {
     "name": "stdout",
     "output_type": "stream",
     "text": [
      "(10, 20, 60, 89)\n"
     ]
    }
   ],
   "source": [
    "#to concatenate two tuples\n",
    "t1=(10,20)\n",
    "t2=(60,89)\n",
    "newt= t1+t2\n",
    "print(newt)"
   ]
  },
  {
   "cell_type": "code",
   "execution_count": 11,
   "id": "b3003eff",
   "metadata": {},
   "outputs": [
    {
     "name": "stdout",
     "output_type": "stream",
     "text": [
      "(10, 50, 54, 87, 89)\n"
     ]
    }
   ],
   "source": [
    "#to sort the elements in the list in ascending order\n",
    "t1 = (10, 50, 89, 87, 54)\n",
    "sorted_t1 = tuple(sorted(t1))\n",
    "print(sorted_t1)"
   ]
  },
  {
   "cell_type": "markdown",
   "id": "50cb9676",
   "metadata": {},
   "source": [
    "# 3.Write a python program to implement the following using list.\n",
    "#Create a list with integers"
   ]
  },
  {
   "cell_type": "code",
   "execution_count": 41,
   "id": "a87b8105",
   "metadata": {},
   "outputs": [],
   "source": [
    "list=[11,12,13,14,15,16,17,18,19,20]"
   ]
  },
  {
   "cell_type": "code",
   "execution_count": 43,
   "id": "8ede5074",
   "metadata": {},
   "outputs": [
    {
     "name": "stdout",
     "output_type": "stream",
     "text": [
      "20\n"
     ]
    }
   ],
   "source": [
    "#display the last number in the list\n",
    "last=list[-1]\n",
    "print(last)"
   ]
  },
  {
   "cell_type": "code",
   "execution_count": 44,
   "id": "c7d3c16e",
   "metadata": {},
   "outputs": [
    {
     "name": "stdout",
     "output_type": "stream",
     "text": [
      "[11, 12, 13, 14]\n"
     ]
    }
   ],
   "source": [
    "#command for displaying the values from the list[0:4]\n",
    "list=[11,12,13,14,15,16,17,18,19,20]\n",
    "lst=list[0:4]\n",
    "print(lst)"
   ]
  },
  {
   "cell_type": "code",
   "execution_count": 48,
   "id": "5c5ce66c",
   "metadata": {},
   "outputs": [
    {
     "name": "stdout",
     "output_type": "stream",
     "text": [
      "[13, 14, 15, 16, 17, 18, 19, 20]\n"
     ]
    }
   ],
   "source": [
    "#command for displaying the values from the list[2:]\n",
    "lst=list[2:]\n",
    "print(lst)"
   ]
  },
  {
   "cell_type": "code",
   "execution_count": 47,
   "id": "cf2adf76",
   "metadata": {},
   "outputs": [
    {
     "name": "stdout",
     "output_type": "stream",
     "text": [
      "[11, 12, 13, 14, 15, 16]\n"
     ]
    }
   ],
   "source": [
    "#command for displaying the values from the list[:6]\n",
    "lst=list[:6]\n",
    "print(lst)"
   ]
  },
  {
   "cell_type": "markdown",
   "id": "b0ce1c0d",
   "metadata": {},
   "source": [
    "# 4.write a python program :tuple1=(10,50,20,40,30)\n",
    "#to display the elements 10 and 50 from tuple1"
   ]
  },
  {
   "cell_type": "code",
   "execution_count": 53,
   "id": "08346153",
   "metadata": {},
   "outputs": [
    {
     "name": "stdout",
     "output_type": "stream",
     "text": [
      "10 50\n"
     ]
    }
   ],
   "source": [
    "tuple1=(10,50,20,40,30)\n",
    "t1=tuple1[0]\n",
    "t2=tuple1[1]\n",
    "print(t1,t2)"
   ]
  },
  {
   "cell_type": "code",
   "execution_count": 54,
   "id": "56d93866",
   "metadata": {},
   "outputs": [
    {
     "name": "stdout",
     "output_type": "stream",
     "text": [
      "5\n"
     ]
    }
   ],
   "source": [
    "#to display the length of a tuple1\n",
    "len_tuple= len(tuple1)\n",
    "print(len_tuple)"
   ]
  },
  {
   "cell_type": "code",
   "execution_count": 55,
   "id": "e4977bfb",
   "metadata": {},
   "outputs": [
    {
     "name": "stdout",
     "output_type": "stream",
     "text": [
      "10\n"
     ]
    }
   ],
   "source": [
    "#to find minimum element from tuple1\n",
    "minimum = min(tuple1)\n",
    "print(minimum)"
   ]
  },
  {
   "cell_type": "code",
   "execution_count": 56,
   "id": "2be9ddcc",
   "metadata": {},
   "outputs": [
    {
     "name": "stdout",
     "output_type": "stream",
     "text": [
      "10\n",
      "60\n",
      "80\n",
      "120\n",
      "150\n"
     ]
    }
   ],
   "source": [
    "#to add all elements in tuple1\n",
    "sum=0\n",
    "for element in tuple1:\n",
    "    sum=sum+element\n",
    "    print(sum)"
   ]
  },
  {
   "cell_type": "code",
   "execution_count": 57,
   "id": "4d832cbd",
   "metadata": {},
   "outputs": [
    {
     "name": "stdout",
     "output_type": "stream",
     "text": [
      "(10, 50, 20, 40, 30, 10, 50, 20, 40, 30, 10, 50, 20, 40, 30)\n"
     ]
    }
   ],
   "source": [
    "#to display tuple1 multiple times\n",
    "mult_tuple1=tuple1*3\n",
    "print(mult_tuple1)"
   ]
  },
  {
   "cell_type": "markdown",
   "id": "b9eb9b32",
   "metadata": {},
   "source": [
    "# 5 Write a python program to \n",
    "#Calculate length of a string"
   ]
  },
  {
   "cell_type": "code",
   "execution_count": 58,
   "id": "600d1bfb",
   "metadata": {},
   "outputs": [
    {
     "name": "stdout",
     "output_type": "stream",
     "text": [
      "11\n"
     ]
    }
   ],
   "source": [
    "str=\"Hello world\"\n",
    "print(len(str))"
   ]
  },
  {
   "cell_type": "code",
   "execution_count": 59,
   "id": "2ca8c3c1",
   "metadata": {},
   "outputs": [
    {
     "name": "stdout",
     "output_type": "stream",
     "text": [
      "dlrow olleH\n"
     ]
    }
   ],
   "source": [
    "#To reverse words in a string\n",
    "print(str[::-1])"
   ]
  },
  {
   "cell_type": "code",
   "execution_count": 60,
   "id": "344965f6",
   "metadata": {},
   "outputs": [
    {
     "name": "stdout",
     "output_type": "stream",
     "text": [
      "Hello worldHello worldHello world\n"
     ]
    }
   ],
   "source": [
    "#to display same string multiple times\n",
    "print(str*3)"
   ]
  },
  {
   "cell_type": "code",
   "execution_count": 63,
   "id": "099be1e8",
   "metadata": {},
   "outputs": [
    {
     "name": "stdout",
     "output_type": "stream",
     "text": [
      "good evening\n"
     ]
    }
   ],
   "source": [
    "# to concatenate two strings\n",
    "str1= \"good \"\n",
    "str2= \"evening\"\n",
    "str= str1+str2\n",
    "print(str)"
   ]
  },
  {
   "cell_type": "code",
   "execution_count": 4,
   "id": "7133a139",
   "metadata": {},
   "outputs": [
    {
     "name": "stdout",
     "output_type": "stream",
     "text": [
      "India\n"
     ]
    }
   ],
   "source": [
    "#str1= \"South India\", use slicing to display \"india\"\n",
    "str=\"South India\"\n",
    "print(str[6:11])"
   ]
  },
  {
   "cell_type": "markdown",
   "id": "c31c30a7",
   "metadata": {},
   "source": [
    "# 6.Perform the following\n",
    "#Creating dictionary"
   ]
  },
  {
   "cell_type": "code",
   "execution_count": 5,
   "id": "d745005c",
   "metadata": {},
   "outputs": [],
   "source": [
    "a={'Physics':89, 'Maths':95, 'Chemistry':82}"
   ]
  },
  {
   "cell_type": "code",
   "execution_count": 6,
   "id": "b17f9510",
   "metadata": {},
   "outputs": [
    {
     "name": "stdout",
     "output_type": "stream",
     "text": [
      "Physics\n",
      "Maths\n",
      "Chemistry\n"
     ]
    }
   ],
   "source": [
    "#accessing values and keys in dictionary:\n",
    "for key in a:\n",
    "    print(key)"
   ]
  },
  {
   "cell_type": "code",
   "execution_count": 8,
   "id": "3b489475",
   "metadata": {},
   "outputs": [
    {
     "name": "stdout",
     "output_type": "stream",
     "text": [
      "Physics\n",
      "Maths\n",
      "Chemistry\n"
     ]
    }
   ],
   "source": [
    "for value in a:\n",
    "    print(value)"
   ]
  },
  {
   "cell_type": "code",
   "execution_count": 12,
   "id": "e1116de1",
   "metadata": {},
   "outputs": [
    {
     "name": "stdout",
     "output_type": "stream",
     "text": [
      "None\n"
     ]
    }
   ],
   "source": [
    "a={'Physics':89, 'Maths':95, 'Chemistry':82}\n",
    "print(a.get(1))"
   ]
  },
  {
   "cell_type": "code",
   "execution_count": 13,
   "id": "0163a30f",
   "metadata": {},
   "outputs": [
    {
     "name": "stdout",
     "output_type": "stream",
     "text": [
      "{'Physics': 89, 'Maths': 95, 'Chemistry': 82}\n"
     ]
    }
   ],
   "source": [
    "#uploading a dictionary\n",
    "def upload_dictionary():\n",
    "    a = {'Physics': 89, 'Maths': 95, 'Chemistry': 82}\n",
    "    return a\n",
    "my_dict = upload_dictionary()\n",
    "print(my_dict)\n"
   ]
  },
  {
   "cell_type": "code",
   "execution_count": 14,
   "id": "240deded",
   "metadata": {},
   "outputs": [
    {
     "name": "stdout",
     "output_type": "stream",
     "text": [
      "{}\n"
     ]
    }
   ],
   "source": [
    "#clear and delete the dictionary values:\n",
    "a.clear()\n",
    "print(a)"
   ]
  },
  {
   "cell_type": "code",
   "execution_count": 17,
   "id": "6a3cfaf3",
   "metadata": {},
   "outputs": [
    {
     "ename": "NameError",
     "evalue": "name 'a' is not defined",
     "output_type": "error",
     "traceback": [
      "\u001b[1;31m---------------------------------------------------------------------------\u001b[0m",
      "\u001b[1;31mNameError\u001b[0m                                 Traceback (most recent call last)",
      "Cell \u001b[1;32mIn[17], line 3\u001b[0m\n\u001b[0;32m      1\u001b[0m a \u001b[38;5;241m=\u001b[39m {\u001b[38;5;124m'\u001b[39m\u001b[38;5;124mPhysics\u001b[39m\u001b[38;5;124m'\u001b[39m: \u001b[38;5;241m89\u001b[39m, \u001b[38;5;124m'\u001b[39m\u001b[38;5;124mMaths\u001b[39m\u001b[38;5;124m'\u001b[39m: \u001b[38;5;241m95\u001b[39m, \u001b[38;5;124m'\u001b[39m\u001b[38;5;124mChemistry\u001b[39m\u001b[38;5;124m'\u001b[39m: \u001b[38;5;241m82\u001b[39m}\n\u001b[0;32m      2\u001b[0m \u001b[38;5;28;01mdel\u001b[39;00m a\n\u001b[1;32m----> 3\u001b[0m \u001b[38;5;28mprint\u001b[39m(a)\n",
      "\u001b[1;31mNameError\u001b[0m: name 'a' is not defined"
     ]
    }
   ],
   "source": [
    "a = {'Physics': 89, 'Maths': 95, 'Chemistry': 82}\n",
    "del a\n",
    "print(a)"
   ]
  },
  {
   "cell_type": "markdown",
   "id": "294c3720",
   "metadata": {},
   "source": [
    "# 7.inserting a number to anyposition in a list:\n"
   ]
  },
  {
   "cell_type": "code",
   "execution_count": 24,
   "id": "47f8641d",
   "metadata": {},
   "outputs": [
    {
     "name": "stdout",
     "output_type": "stream",
     "text": [
      "Enter the number to insert: 9\n",
      "Enter the position (0 to 5): 5\n",
      "Updated list: [1, 2, 3, 4, 5, 9]\n"
     ]
    }
   ],
   "source": [
    "lst = [1, 2, 3, 4, 5]\n",
    "number = int(input(\"Enter the number to insert: \"))\n",
    "\n",
    "position = int(input(\"Enter the position (0 to {}): \".format(len(lst))))\n",
    "if position < 0 or position > len(lst):\n",
    "    print(\"Invalid position. Position should be between 0 and {}.\".format(len(lst)))\n",
    "else:\n",
    "    \n",
    "    lst.insert(position, number)\n",
    "\n",
    "    print(\"Updated list:\", lst)\n"
   ]
  },
  {
   "cell_type": "markdown",
   "id": "1c01bd66",
   "metadata": {},
   "source": [
    "# 8. delete an element from the list using index."
   ]
  },
  {
   "cell_type": "code",
   "execution_count": 23,
   "id": "6e863f3e",
   "metadata": {},
   "outputs": [
    {
     "name": "stdout",
     "output_type": "stream",
     "text": [
      "[1, 2, 5, 9]\n"
     ]
    }
   ],
   "source": [
    "index= 2\n",
    "del lst[index]\n",
    "print(lst)"
   ]
  },
  {
   "cell_type": "markdown",
   "id": "8b0cc2ab",
   "metadata": {},
   "source": [
    "# 9.display a number from 1 to 100"
   ]
  },
  {
   "cell_type": "code",
   "execution_count": 25,
   "id": "b1fdbe95",
   "metadata": {},
   "outputs": [
    {
     "name": "stdout",
     "output_type": "stream",
     "text": [
      "Enter a number between 1 and 100: 98\n",
      "The no. you entered: 98\n"
     ]
    }
   ],
   "source": [
    "number = int(input(\"Enter a number between 1 and 100: \"))\n",
    "\n",
    "if 1 <= number <= 100:\n",
    "    print(\"The no. you entered:\", number)\n",
    "else:\n",
    "    print(\"Invalid number\")\n"
   ]
  },
  {
   "cell_type": "markdown",
   "id": "e318eb5f",
   "metadata": {},
   "source": [
    "# 10.sum of all items in a tuple:"
   ]
  },
  {
   "cell_type": "code",
   "execution_count": 27,
   "id": "ee8fedbe",
   "metadata": {},
   "outputs": [
    {
     "name": "stdout",
     "output_type": "stream",
     "text": [
      "Sum of all items in a tuple: 15\n"
     ]
    }
   ],
   "source": [
    "my_tuple = (1, 2, 3, 4, 5)\n",
    "sum = 0\n",
    "for item in my_tuple:\n",
    "    sum = sum + item\n",
    "print(\"Sum of all items in a tuple:\", sum)\n"
   ]
  },
  {
   "cell_type": "markdown",
   "id": "35c85b9b",
   "metadata": {},
   "source": [
    "# 11. create dictionary containing three lambda functions square, cube and square root. \n",
    "i) Eg: dict={'square': function for squaring,'Cube': function for cube, 'square root': function for square root}. \n",
    "ii) pass the values (input from the user) to the functions in the dictionary respectively.\n",
    "iii) then add the outputs of each function and print it."
   ]
  },
  {
   "cell_type": "code",
   "execution_count": 12,
   "id": "5157e263",
   "metadata": {},
   "outputs": [
    {
     "name": "stdout",
     "output_type": "stream",
     "text": [
      "Enter a number: 81\n",
      "square of 81.0 is 6561.0\n",
      "cube of 81.0 is 531441.0\n",
      "square root of 81.0 is 9.0\n",
      "Sum of the function outputs: 538011.0\n"
     ]
    }
   ],
   "source": [
    "square = lambda x: x ** 2\n",
    "cube = lambda x: x ** 3\n",
    "square_root = lambda x: x ** 0.5\n",
    "\n",
    "# Create a dictionary\n",
    "function_dict = {\n",
    "    'square': square,\n",
    "    'cube': cube,\n",
    "    'square root': square_root\n",
    "}\n",
    "\n",
    "x = float(input(\"Enter a number: \"))\n",
    "output_sum = 0\n",
    "for operation, func in function_dict.items():\n",
    "    result = func(x)\n",
    "    print(f\"{operation} of {x} is {result}\")\n",
    "    output_sum += result\n",
    "\n",
    "print(f\"Sum of the function outputs: {output_sum}\")\n"
   ]
  },
  {
   "cell_type": "markdown",
   "id": "5d0a67cd",
   "metadata": {},
   "source": [
    "# 12. A list of words is given . find the words from the list that have their second character in uppercase. ls=['hello',  'Dear', 'hOw',  'ARe', 'You']"
   ]
  },
  {
   "cell_type": "code",
   "execution_count": 1,
   "id": "47f97d88",
   "metadata": {},
   "outputs": [
    {
     "name": "stdout",
     "output_type": "stream",
     "text": [
      "Words with the second character in uppercase:\n",
      "hOw\n",
      "ARe\n"
     ]
    }
   ],
   "source": [
    "ls = ['hello', 'Dear', 'hOw', 'ARe', 'You']\n",
    "result_words = []\n",
    "\n",
    "for word in ls:\n",
    "       if len(word) >= 2 and word[1].isupper():\n",
    "        result_words.append(word)\n",
    "\n",
    "print(\"Words with the second character in uppercase:\")\n",
    "for word in result_words:\n",
    "    print(word)"
   ]
  },
  {
   "cell_type": "markdown",
   "id": "010c4e79",
   "metadata": {},
   "source": [
    "# 13. A dictionary of names and their weights on earth are given. Find how much they will weigh on the moon.(Use map and lambda functions) Formula: wMoon = (wEarth * GMoon)/ GEarth . i)\n",
    "\n",
    "#weight of people in kg. \n",
    "\n",
    "WeightOnEarth ={'John':45,  'Shelly':65, 'Marry':35}\n",
    "GEarth = 9.81\n",
    "GMoon = 1.622"
   ]
  },
  {
   "cell_type": "code",
   "execution_count": 2,
   "id": "63aba098",
   "metadata": {},
   "outputs": [
    {
     "name": "stdout",
     "output_type": "stream",
     "text": [
      "Weights on the Moon:\n",
      "John: 7.440366972477065 kg\n",
      "Shelly: 10.747196738022426 kg\n",
      "Marry: 5.786952089704383 kg\n"
     ]
    }
   ],
   "source": [
    "\n",
    "WeightOnEarth = {'John': 45, 'Shelly': 65, 'Marry': 35}\n",
    "\n",
    "GEarth = 9.81  \n",
    "GMoon = 1.622  \n",
    "\n",
    "def weight_on_moon(weight_on_earth):\n",
    "    return (weight_on_earth * GMoon) / GEarth\n",
    "\n",
    "weights_on_moon = list(map(lambda x: weight_on_moon(x), WeightOnEarth.values()))\n",
    "\n",
    "WeightOnMoon = dict(zip(WeightOnEarth.keys(), weights_on_moon))\n",
    "\n",
    "print(\"Weights on the Moon:\")\n",
    "for name, weight in WeightOnMoon.items():\n",
    "    print(f\"{name}: {weight} kg\")\n"
   ]
  },
  {
   "cell_type": "markdown",
   "id": "13e87c39",
   "metadata": {},
   "source": [
    "# control structures:\n",
    "    # 1.find the first N prime numbers:"
   ]
  },
  {
   "cell_type": "code",
   "execution_count": 28,
   "id": "3709b63a",
   "metadata": {},
   "outputs": [
    {
     "name": "stdout",
     "output_type": "stream",
     "text": [
      "enter the starting value: 1\n",
      "enter the ending value: 10\n",
      "The Prime Numbers are: \n",
      "2\n",
      "3\n",
      "5\n",
      "7\n"
     ]
    }
   ],
   "source": [
    "start_val= int(input(\"enter the starting value: \"))\n",
    "end_val= int(input(\"enter the ending value: \"))\n",
    "print (\"The Prime Numbers are: \")  \n",
    "for number in range (start_val, end_val + 1):  \n",
    "    if number > 1:  \n",
    "        for i in range (2, number):  \n",
    "            if (number % i) == 0:  \n",
    "                break  \n",
    "        else:  \n",
    "            print (number)"
   ]
  },
  {
   "cell_type": "markdown",
   "id": "b8749181",
   "metadata": {},
   "source": [
    "# 2. calculate the salary of an employee."
   ]
  },
  {
   "cell_type": "code",
   "execution_count": 3,
   "id": "f5ddb98b",
   "metadata": {},
   "outputs": [
    {
     "name": "stdout",
     "output_type": "stream",
     "text": [
      "Enter Basic Salary: 10000\n",
      "Enter HRA: 3000\n",
      "Enter TA: 2000\n",
      "Enter DA: 1000\n",
      "\n",
      "Salary Details:\n",
      "Basic Salary: 10000.0\n",
      "HRA: 3000.0\n",
      "TA: 2000.0\n",
      "DA: 1000.0\n",
      "Gross Salary: 16000.0\n",
      "Tax (10%): 1600.0\n",
      "Net Salary: 14400.0\n"
     ]
    }
   ],
   "source": [
    "# Prompt the user to enter salary components\n",
    "basic_salary = float(input(\"Enter Basic Salary: \"))\n",
    "hra = float(input(\"Enter HRA: \"))\n",
    "ta = float(input(\"Enter TA: \"))\n",
    "da = float(input(\"Enter DA: \"))\n",
    "\n",
    "# Calculate the gross salary\n",
    "gross_salary = basic_salary + hra + ta + da\n",
    "\n",
    "# Calculate the tax (10% of gross salary)\n",
    "tax = 0.10 * gross_salary\n",
    "\n",
    "# Calculate the net salary (gross salary - tax)\n",
    "net_salary = gross_salary - tax\n",
    "\n",
    "# Display the results\n",
    "print(\"\\nSalary Details:\")\n",
    "print(f\"Basic Salary: {basic_salary}\")\n",
    "print(f\"HRA: {hra}\")\n",
    "print(f\"TA: {ta}\")\n",
    "print(f\"DA: {da}\")\n",
    "print(f\"Gross Salary: {gross_salary}\")\n",
    "print(f\"Tax (10%): {tax}\")\n",
    "print(f\"Net Salary: {net_salary}\")\n"
   ]
  },
  {
   "cell_type": "markdown",
   "id": "19f98f04",
   "metadata": {},
   "source": [
    "# 3. to search for a string in the given list.\n"
   ]
  },
  {
   "cell_type": "code",
   "execution_count": 31,
   "id": "74ec72f6",
   "metadata": {},
   "outputs": [
    {
     "name": "stdout",
     "output_type": "stream",
     "text": [
      "Enter a string to search for: pink\n",
      "'pink' was found in the list.\n"
     ]
    }
   ],
   "source": [
    "my_list = [\"pink\", \"blue\", \"red\", \"purple\", \"white\"]\n",
    "\n",
    "search_string = input(\"Enter a string to search for: \")\n",
    "\n",
    "found = False\n",
    "\n",
    "for item in my_list:\n",
    "    if item == search_string:\n",
    "        found = True\n",
    "        break\n",
    "\n",
    "if found:\n",
    "    print(f\"'{search_string}' was found in the list.\")\n",
    "else:\n",
    "    print(f\"'{search_string}' was not found.\")\n"
   ]
  },
  {
   "cell_type": "markdown",
   "id": "f9b2a45f",
   "metadata": {},
   "source": [
    "# 4.python function that accepts a string and calculates the number of uppercase and lower case letters."
   ]
  },
  {
   "cell_type": "code",
   "execution_count": 32,
   "id": "a21c0cc2",
   "metadata": {},
   "outputs": [
    {
     "name": "stdout",
     "output_type": "stream",
     "text": [
      "Enter a string: BlueBerry\n",
      "Uppercase letters: 2\n",
      "Lowercase letters: 7\n"
     ]
    }
   ],
   "source": [
    "def count_upper_lower(string):\n",
    "    upper_count = 0\n",
    "    lower_count = 0\n",
    "\n",
    "    for char in string:\n",
    "        if char.isupper():\n",
    "            upper_count += 1\n",
    "        elif char.islower():\n",
    "            lower_count += 1\n",
    "\n",
    "    return upper_count, lower_count\n",
    "\n",
    "input_string = input(\"Enter a string: \")\n",
    "\n",
    "uppercase_count, lowercase_count = count_upper_lower(input_string)\n",
    "\n",
    "print(\"Uppercase letters:\", uppercase_count)\n",
    "print(\"Lowercase letters:\", lowercase_count)\n"
   ]
  },
  {
   "cell_type": "markdown",
   "id": "43c5eb6c",
   "metadata": {},
   "source": [
    "# 5. display the sum of odd numbers and even numbers that fall between 12 and 37"
   ]
  },
  {
   "cell_type": "code",
   "execution_count": 33,
   "id": "78e0ac16",
   "metadata": {},
   "outputs": [
    {
     "name": "stdout",
     "output_type": "stream",
     "text": [
      "Sum of even numbers between 12 and 37: 312\n",
      "Sum of odd numbers between 12 and 37: 325\n"
     ]
    }
   ],
   "source": [
    "sum_odd = 0\n",
    "sum_even = 0\n",
    "for num in range(12, 38):\n",
    "    if num % 2 == 0:\n",
    "        sum_even += num\n",
    "    else:\n",
    "        sum_odd += num\n",
    "\n",
    "print(\"Sum of even numbers between 12 and 37:\", sum_even)\n",
    "print(\"Sum of odd numbers between 12 and 37:\", sum_odd)\n"
   ]
  },
  {
   "cell_type": "markdown",
   "id": "a976a819",
   "metadata": {},
   "source": [
    "# 6. printing multiplication table"
   ]
  },
  {
   "cell_type": "code",
   "execution_count": 34,
   "id": "f1687709",
   "metadata": {},
   "outputs": [
    {
     "name": "stdout",
     "output_type": "stream",
     "text": [
      "Enter the number : 2\n",
      "The Multiplication Table of:  2\n",
      "2 x 1 = 2\n",
      "2 x 2 = 4\n",
      "2 x 3 = 6\n",
      "2 x 4 = 8\n",
      "2 x 5 = 10\n",
      "2 x 6 = 12\n",
      "2 x 7 = 14\n",
      "2 x 8 = 16\n",
      "2 x 9 = 18\n",
      "2 x 10 = 20\n"
     ]
    }
   ],
   "source": [
    "number = int(input (\"Enter the number : \"))             \n",
    "print (\"The Multiplication Table of: \", number)    \n",
    "for count in range(1, 11):      \n",
    "   print (number, 'x', count, '=', number * count) "
   ]
  },
  {
   "cell_type": "markdown",
   "id": "28dfefa1",
   "metadata": {},
   "source": [
    "# 7.print the sum of first 10 prime numbers"
   ]
  },
  {
   "cell_type": "code",
   "execution_count": 39,
   "id": "870f5cd0",
   "metadata": {},
   "outputs": [
    {
     "name": "stdout",
     "output_type": "stream",
     "text": [
      "\n",
      " enter the last number :10\n",
      "the sum of prime numbers upto 10\n"
     ]
    },
    {
     "ename": "TypeError",
     "evalue": "'int' object is not callable",
     "output_type": "error",
     "traceback": [
      "\u001b[1;31m---------------------------------------------------------------------------\u001b[0m",
      "\u001b[1;31mTypeError\u001b[0m                                 Traceback (most recent call last)",
      "Cell \u001b[1;32mIn[39], line 5\u001b[0m\n\u001b[0;32m      2\u001b[0m \u001b[38;5;28mprint\u001b[39m (\u001b[38;5;124m\"\u001b[39m\u001b[38;5;124mthe sum of prime numbers upto\u001b[39m\u001b[38;5;124m\"\u001b[39m, last_number)\n\u001b[0;32m      3\u001b[0m \u001b[38;5;28msum\u001b[39m \u001b[38;5;241m=\u001b[39m \u001b[38;5;241m0\u001b[39m\n\u001b[1;32m----> 5\u001b[0m \u001b[38;5;28;01mfor\u001b[39;00m number \u001b[38;5;129;01min\u001b[39;00m \u001b[38;5;28mrange\u001b[39m(\u001b[38;5;241m2\u001b[39m, last_number \u001b[38;5;241m+\u001b[39m \u001b[38;5;241m1\u001b[39m):\n\u001b[0;32m      6\u001b[0m     i \u001b[38;5;241m=\u001b[39m \u001b[38;5;241m2\u001b[39m\n\u001b[0;32m      7\u001b[0m     \u001b[38;5;28;01mfor\u001b[39;00m i \u001b[38;5;129;01min\u001b[39;00m \u001b[38;5;28mrange\u001b[39m(\u001b[38;5;241m2\u001b[39m, number):\n",
      "\u001b[1;31mTypeError\u001b[0m: 'int' object is not callable"
     ]
    }
   ],
   "source": [
    "last_number = int(input(\"\\n enter the last number :\"))\n",
    "print (\"the sum of prime numbers upto\", last_number)\n",
    "sum = 0\n",
    "\n",
    "for number in range(2, last_number + 1):\n",
    "    i = 2\n",
    "    for i in range(2, number):\n",
    "        if (int(number % i) == 0):\n",
    "            i = number\n",
    "            break;\n",
    "\n",
    "    if i is not number:\n",
    "        sum = sum + number\n",
    "print(\"\\nThe sum of prime numbers from 1 to \", last_number, \" is :\", sum)\n"
   ]
  },
  {
   "cell_type": "markdown",
   "id": "169975a0",
   "metadata": {},
   "source": [
    "# 8. implement arithmetic operations using nested if"
   ]
  },
  {
   "cell_type": "code",
   "execution_count": 40,
   "id": "24e1540b",
   "metadata": {},
   "outputs": [
    {
     "name": "stdout",
     "output_type": "stream",
     "text": [
      "Enter the first number: 8\n",
      "Enter the second number: 1\n",
      "Enter the arithmetic operation (+, -, *, /): +\n",
      "Result: 9.0\n"
     ]
    }
   ],
   "source": [
    "n1 = float(input(\"Enter the first number: \"))\n",
    "n2 = float(input(\"Enter the second number: \"))\n",
    "operation = input(\"Enter the arithmetic operation (+, -, *, /): \")\n",
    "\n",
    "if operation == \"+\":\n",
    "    result = n1 + n2\n",
    "elif operation == \"-\":\n",
    "    result = n1 - n2\n",
    "elif operation == \"*\":\n",
    "    result = n1 * n2\n",
    "elif operation == \"/\":\n",
    "    if num2 != 0: \n",
    "        result = n1 / n2\n",
    "    else:\n",
    "        result = \"Division by zero is not possible.\"\n",
    "else:\n",
    "    result = \"Invalid operation.\"\n",
    "\n",
    "print(f\"Result: {result}\")\n"
   ]
  },
  {
   "cell_type": "markdown",
   "id": "7a197e77",
   "metadata": {},
   "source": [
    "# 9.converting temperature from celcius to farenheit:"
   ]
  },
  {
   "cell_type": "code",
   "execution_count": 41,
   "id": "224b2add",
   "metadata": {},
   "outputs": [
    {
     "name": "stdout",
     "output_type": "stream",
     "text": [
      "Enter temperature in Celsius: 45\n",
      "45 degrees is equal to 113.0 degrees Fahrenheit.\n"
     ]
    }
   ],
   "source": [
    "celsius = int(input(\"Enter temperature in Celsius: \"))\n",
    "fahrenheit = (celsius * 9/5) + 32\n",
    "print(f\"{celsius} degrees is equal to {fahrenheit} degrees Fahrenheit.\")\n"
   ]
  },
  {
   "cell_type": "markdown",
   "id": "00c9b082",
   "metadata": {},
   "source": [
    "# 10. maximum and minimum number in a list without using an inbuilt function."
   ]
  },
  {
   "cell_type": "code",
   "execution_count": 46,
   "id": "3c51c501",
   "metadata": {},
   "outputs": [
    {
     "name": "stdout",
     "output_type": "stream",
     "text": [
      "(75, -5)\n"
     ]
    }
   ],
   "source": [
    "def max_min(data):\n",
    "  l = data[0]\n",
    "  s = data[0]\n",
    "  for num in data:\n",
    "    if num> l:\n",
    "      l = num\n",
    "    elif num< s:\n",
    "        s = num\n",
    "  return l, s\n",
    "print(max_min([0, 10, 15, 40, -5, 42, 17, 28, 75]))"
   ]
  },
  {
   "cell_type": "markdown",
   "id": "76181bbc",
   "metadata": {},
   "source": [
    "# 11. printing the number of seconds in 30 day month 30 days, 24 hours in a day,60 minutes per day, 60seconds in a minute"
   ]
  },
  {
   "cell_type": "code",
   "execution_count": 47,
   "id": "da129883",
   "metadata": {},
   "outputs": [
    {
     "name": "stdout",
     "output_type": "stream",
     "text": [
      "There are 2592000 seconds in a 30-day month.\n"
     ]
    }
   ],
   "source": [
    "days = 30\n",
    "hours_in_day = 24\n",
    "minutes_in_hour = 60\n",
    "seconds_in_minute = 60\n",
    "\n",
    "total_seconds = days * hours_in_day * minutes_in_hour * seconds_in_minute\n",
    "\n",
    "print(f\"There are {total_seconds} seconds in a {days}-day month.\")\n"
   ]
  },
  {
   "cell_type": "markdown",
   "id": "adcb73ff",
   "metadata": {},
   "source": [
    "# 12. printing the number of seconds in a year"
   ]
  },
  {
   "cell_type": "code",
   "execution_count": 49,
   "id": "436b807f",
   "metadata": {},
   "outputs": [
    {
     "name": "stdout",
     "output_type": "stream",
     "text": [
      "There are 31536000 seconds in a year.\n"
     ]
    }
   ],
   "source": [
    "total_days = 365\n",
    "hours_in_day = 24\n",
    "minutes_in_hour = 60\n",
    "seconds_in_minute = 60\n",
    "\n",
    "total_seconds = total_days * hours_in_day * minutes_in_hour * seconds_in_minute\n",
    "\n",
    "print(f\"There are {total_seconds} seconds in a year.\")\n"
   ]
  },
  {
   "cell_type": "markdown",
   "id": "18fa864f",
   "metadata": {},
   "source": [
    "# 13.A high speed can travel at an average speed of 150mph, how long will it take a train travelling at this speed to travel from london to glasgow which is 414 miles away?"
   ]
  },
  {
   "cell_type": "code",
   "execution_count": 4,
   "id": "c407855a",
   "metadata": {},
   "outputs": [
    {
     "name": "stdout",
     "output_type": "stream",
     "text": [
      "It will take 2.76 hours to travel from London to Glasgow at an average speed of 150 mph.\n"
     ]
    }
   ],
   "source": [
    "dist = 414  \n",
    "avg_speed = 150\n",
    "time_hours = dist / avg_speed\n",
    "print(f\"It will take {time_hours} hours to travel from London to Glasgow at an average speed of {avg_speed} mph.\")\n"
   ]
  },
  {
   "cell_type": "markdown",
   "id": "f20ea515",
   "metadata": {},
   "source": [
    "# 14.write a python program that defines a variable called days_in_each_school_year and assign 192 to the variable. The program should then print out the total hours that you spend in school from year 7 to year 11, if each day you spend 6 hours in school days_in_each_school_year= 192"
   ]
  },
  {
   "cell_type": "code",
   "execution_count": 5,
   "id": "e9f890d6",
   "metadata": {},
   "outputs": [
    {
     "name": "stdout",
     "output_type": "stream",
     "text": [
      "Total hours spent in school from year 7 to year 11: 5760 hours\n"
     ]
    }
   ],
   "source": [
    "days_in_each_school_year = 192\n",
    "\n",
    "school_years = 5  \n",
    "hours_in_school_day = 6\n",
    "total_hours_in_school = days_in_each_school_year * school_years * hours_in_school_day\n",
    "print(f\"Total hours spent in school from year 7 to year 11: {total_hours_in_school} hours\")\n"
   ]
  },
  {
   "cell_type": "markdown",
   "id": "37b9dc35",
   "metadata": {},
   "source": [
    "# 15. if the age of ram, sam and khan are input through the keyboard , write a python program to determine the eldest and youngest of the three"
   ]
  },
  {
   "cell_type": "code",
   "execution_count": 50,
   "id": "197d4374",
   "metadata": {},
   "outputs": [
    {
     "name": "stdout",
     "output_type": "stream",
     "text": [
      "Enter Ram's age: 20\n",
      "Enter Sam's age: 22\n",
      "Enter Khan's age: 24\n",
      "The eldest is Khan (Khan's age: 24)\n",
      "The youngest is Ram (Ram's age: 20)\n"
     ]
    }
   ],
   "source": [
    "ram_age = int(input(\"Enter Ram's age: \"))\n",
    "sam_age = int(input(\"Enter Sam's age: \"))\n",
    "khan_age = int(input(\"Enter Khan's age: \"))\n",
    "\n",
    "if ram_age >= sam_age and ram_age >= khan_age:\n",
    "    eldest = \"Ram\"\n",
    "    if sam_age <= khan_age:\n",
    "        youngest = \"Sam\"\n",
    "    else:\n",
    "        youngest = \"Khan\"\n",
    "elif sam_age >= ram_age and sam_age >= khan_age:\n",
    "    eldest = \"Sam\"\n",
    "    if ram_age <= khan_age:\n",
    "        youngest = \"Ram\"\n",
    "    else:\n",
    "        youngest = \"Khan\"\n",
    "else:\n",
    "    eldest = \"Khan\"\n",
    "    if ram_age <= sam_age:\n",
    "        youngest = \"Ram\"\n",
    "    else:\n",
    "        youngest = \"Sam\"\n",
    "\n",
    "\n",
    "print(f\"The eldest is {eldest} ({eldest}'s age: {max(ram_age, sam_age, khan_age)})\")\n",
    "print(f\"The youngest is {youngest} ({youngest}'s age: {min(ram_age, sam_age, khan_age)})\")\n"
   ]
  },
  {
   "cell_type": "markdown",
   "id": "e87fdd02",
   "metadata": {},
   "source": [
    "# 16 write a python program to rotate a list by right n times with and without slicing technique"
   ]
  },
  {
   "cell_type": "code",
   "execution_count": 51,
   "id": "67b13d66",
   "metadata": {},
   "outputs": [
    {
     "name": "stdout",
     "output_type": "stream",
     "text": [
      "Rotated list with slicing: [4, 5, 1, 2, 3]\n"
     ]
    }
   ],
   "source": [
    "def rotate_list_with_slicing(lst, n):\n",
    "    n = n % len(lst)  \n",
    "    rotated_list = lst[-n:] + lst[:-n]\n",
    "    return rotated_list\n",
    "\n",
    "\n",
    "original_list = [1, 2, 3, 4, 5]\n",
    "n = 2\n",
    "rotated_list = rotate_list_with_slicing(original_list, n)\n",
    "print(\"Rotated list with slicing:\", rotated_list)\n"
   ]
  },
  {
   "cell_type": "code",
   "execution_count": null,
   "id": "7f61e916",
   "metadata": {},
   "outputs": [],
   "source": [
    "def rotate_list_without_slicing(lst, n):\n",
    "    n = n % len(lst) \n",
    "    rotated_list = []\n",
    "    for i in range(len(lst)):\n",
    "        rotated_index = (i + n) % len(lst)\n",
    "        rotated_list.append(lst[rotated_index])\n",
    "    return rotated_list\n",
    "\n",
    "org_list = [1, 2, 3, 4, 5]\n",
    "n = 2\n",
    "rotated_list = rotate_list_without_slicing(org_list, n)\n",
    "print(\"Rotated list without slicing:\", rotated_list)\n"
   ]
  },
  {
   "cell_type": "markdown",
   "id": "726987e4",
   "metadata": {},
   "source": [
    "# 17.write python programs to print the following patterns:"
   ]
  },
  {
   "cell_type": "code",
   "execution_count": 6,
   "id": "68cb44b7",
   "metadata": {},
   "outputs": [
    {
     "name": "stdout",
     "output_type": "stream",
     "text": [
      "1 \n",
      "1 1 \n",
      "1 2 1 \n",
      "1 3 3 1 \n",
      "1 4 6 4 1 \n",
      "1 5 10 10 5 1 \n",
      "1 6 15 20 15 6 1 \n"
     ]
    }
   ],
   "source": [
    "def pas_triangle(n):\n",
    "    for line in range(1, n + 1):\n",
    "        val = 1\n",
    "        for i in range(1, line + 1):\n",
    "            print(val, end=\" \")\n",
    "            val = val * (line - i) // i\n",
    "        print()\n",
    "n = 7\n",
    "pas_triangle(n)"
   ]
  },
  {
   "cell_type": "code",
   "execution_count": 7,
   "id": "f86b4d16",
   "metadata": {},
   "outputs": [
    {
     "name": "stdout",
     "output_type": "stream",
     "text": [
      "* \n",
      "* * \n",
      "* * * \n",
      "* * * * \n",
      "* * * * * \n"
     ]
    }
   ],
   "source": [
    "n = 5 \n",
    "for i in range(1, n + 1):\n",
    "    for j in range(i):\n",
    "        print(\"*\", end=\" \")\n",
    "    print()\n"
   ]
  },
  {
   "cell_type": "code",
   "execution_count": 9,
   "id": "c23b566a",
   "metadata": {},
   "outputs": [
    {
     "name": "stdout",
     "output_type": "stream",
     "text": [
      "P\n",
      "Py\n",
      "Pyt\n",
      "Pyth\n",
      "Pytho\n",
      "Python\n"
     ]
    }
   ],
   "source": [
    "word = \"Python\"\n",
    "\n",
    "for i in range(1, len(word) + 1):\n",
    "    print(word[:i])\n"
   ]
  },
  {
   "cell_type": "code",
   "execution_count": 10,
   "id": "dc02827a",
   "metadata": {},
   "outputs": [
    {
     "name": "stdout",
     "output_type": "stream",
     "text": [
      "    * \n",
      "   * * \n",
      "  * * * \n",
      " * * * * \n",
      "* * * * * \n"
     ]
    }
   ],
   "source": [
    "n = 5  \n",
    "for i in range(1, n + 1):\n",
    "    for j in range(n - i):\n",
    "        print(\" \", end=\"\")\n",
    "    for k in range(i):\n",
    "        print(\"*\", end=\" \")\n",
    "\n",
    "    print()\n"
   ]
  },
  {
   "cell_type": "code",
   "execution_count": null,
   "id": "1072fd97",
   "metadata": {},
   "outputs": [],
   "source": []
  }
 ],
 "metadata": {
  "kernelspec": {
   "display_name": "Python 3 (ipykernel)",
   "language": "python",
   "name": "python3"
  },
  "language_info": {
   "codemirror_mode": {
    "name": "ipython",
    "version": 3
   },
   "file_extension": ".py",
   "mimetype": "text/x-python",
   "name": "python",
   "nbconvert_exporter": "python",
   "pygments_lexer": "ipython3",
   "version": "3.11.4"
  }
 },
 "nbformat": 4,
 "nbformat_minor": 5
}
