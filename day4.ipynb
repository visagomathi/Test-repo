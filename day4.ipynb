{
 "cells": [
  {
   "cell_type": "markdown",
   "id": "4050b033",
   "metadata": {},
   "source": [
    "# 1.write a python program with Exception handling to input marks for five subjects Physics, Chemistry, Biology, Mathematics and computer. Calculate the percentage and grade according to the following:\n",
    "i) Percentage >= 90% : Grade A \n",
    "ii) Percentage >=80% : Grade B\n",
    "iii) Percentage >=70% : Grade C \n",
    "iv) Percentage >=60% : Grade D\n",
    "v) Percentage >=40% : Grade E \n",
    "vi) Percentage <40% : Grade F"
   ]
  },
  {
   "cell_type": "code",
   "execution_count": 13,
   "id": "f41ea35c",
   "metadata": {},
   "outputs": [
    {
     "name": "stdout",
     "output_type": "stream",
     "text": [
      "Enter marks for Physics: 89\n",
      "Enter marks for Chemistry: 90\n",
      "Enter marks for Biology: 67\n",
      "Enter marks for Mathematics: 75\n",
      "Enter marks for Computer: 65\n",
      "Total Marks: 386.0\n",
      "Percentage: 77.20%\n",
      "Grade: C\n"
     ]
    }
   ],
   "source": [
    "try:\n",
    "    \n",
    "    marks = []\n",
    "\n",
    "    # Input marks for each subject\n",
    "    subjects = [\"Physics\", \"Chemistry\", \"Biology\", \"Mathematics\", \"Computer\"]\n",
    "    for subject in subjects:\n",
    "        mark = float(input(f\"Enter marks for {subject}: \"))\n",
    "        if mark < 0 or mark > 100:\n",
    "            raise ValueError(\"Marks should be between 0 and 100.\")\n",
    "        marks.append(mark)\n",
    "\n",
    "    # to find the percentage\n",
    "    total_marks = sum(marks)\n",
    "    percentage = (total_marks / (5 * 100)) * 100\n",
    "\n",
    "    # to obtain the grade\n",
    "    if percentage >= 90:\n",
    "        grade = \"A\"\n",
    "    elif percentage >= 80:\n",
    "        grade = \"B\"\n",
    "    elif percentage >= 70:\n",
    "        grade = \"C\"\n",
    "    elif percentage >= 60:\n",
    "        grade = \"D\"\n",
    "    elif percentage >= 40:\n",
    "        grade = \"E\"\n",
    "    else:\n",
    "        grade = \"F\"\n",
    "\n",
    "    print(f\"Total Marks: {total_marks}\")\n",
    "    print(f\"Percentage: {percentage:.2f}%\")\n",
    "    print(f\"Grade: {grade}\")\n",
    "\n",
    "except ValueError as e:\n",
    "    print(f\"Error: {e}\")\n",
    "except Exception as e:\n",
    "    print(f\"An error occurred: {e}\")\n"
   ]
  },
  {
   "cell_type": "markdown",
   "id": "e7b68b91",
   "metadata": {},
   "source": [
    "# 2.Write a python program with Exception handling to input electricity unit charges and calculate the total electricity bill according to the given condition: \n",
    "i) For the first 50 units Rs. 0.50/unit  \n",
    "ii) For the next 100 units Rs. 0.75/unit  \n",
    "iii) For the next 100 units Rs. 1.20/unit \n",
    "iv) For units above 250 Rs. 1.50/unit v) An additional surcharge of 20% is added to the bill."
   ]
  },
  {
   "cell_type": "code",
   "execution_count": 15,
   "id": "b932cd7d",
   "metadata": {},
   "outputs": [
    {
     "name": "stdout",
     "output_type": "stream",
     "text": [
      "Enter units consumed: 600\n",
      "Total bill: Rs. 745.00\n",
      "Total bill with 20% surcharge: Rs. 894.00\n"
     ]
    }
   ],
   "source": [
    "try:\n",
    "    \n",
    "    units = float(input(\"Enter units consumed: \"))\n",
    "\n",
    "    if units < 0:\n",
    "        raise ValueError(\"Units can't be negative.\")\n",
    "\n",
    "    # Calculating the electricity bill\n",
    "    if units <= 50:\n",
    "        total_bill = units * 0.50\n",
    "    elif units <= 150:\n",
    "        total_bill = 50 * 0.50 + (units - 50) * 0.75\n",
    "    elif units <= 250:\n",
    "        total_bill = 50 * 0.50 + 100 * 0.75 + (units - 150) * 1.20\n",
    "    else:\n",
    "        total_bill = 50 * 0.50 + 100 * 0.75 + 100 * 1.20 + (units - 250) * 1.50\n",
    "\n",
    "    # Add a 20% surcharge to the bill\n",
    "    total_bill_with_surcharge = total_bill * 1.20\n",
    "\n",
    "    print(f\"Total bill: Rs. {total_bill:.2f}\")\n",
    "    print(f\"Total bill with 20% surcharge: Rs. {total_bill_with_surcharge:.2f}\")\n",
    "\n",
    "except ValueError as e:\n",
    "    print(f\"Error: {e}\")\n",
    "except Exception as e:\n",
    "    print(f\"An error occurred: {e}\")\n"
   ]
  },
  {
   "cell_type": "markdown",
   "id": "ad3baba0",
   "metadata": {},
   "source": [
    "# 3.Write a python program with Exception handling to input the week number and print the weekday"
   ]
  },
  {
   "cell_type": "code",
   "execution_count": 1,
   "id": "ab9bc071",
   "metadata": {},
   "outputs": [
    {
     "name": "stdout",
     "output_type": "stream",
     "text": [
      "Enter week number: 5\n",
      "It's a Friday!\n"
     ]
    }
   ],
   "source": [
    "def get_weekday(week_num):\n",
    "    weekdays = [\"Monday\", \"Tuesday\", \"Wednesday\", \"Thursday\", \"Friday\", \"Saturday\", \"Sunday\"]\n",
    "\n",
    "    if week_num < 1 or week_num > 7:\n",
    "        raise ValueError(\"Week number should be btwn 1 and 7.\")\n",
    "    \n",
    "    return weekdays[week_num - 1]\n",
    "\n",
    "try:\n",
    "    # Input the week number\n",
    "    week_num = int(input(\"Enter week number: \"))\n",
    "\n",
    "    # Get the weekday\n",
    "    weekday = get_weekday(week_num)\n",
    "\n",
    "    # Display the result\n",
    "    print(f\"It's a {weekday}!\")\n",
    "\n",
    "except ValueError as e:\n",
    "    print(f\"Error: {e}\")\n",
    "except Exception as e:\n",
    "    print(f\"An error occurred: {e}\")\n"
   ]
  },
  {
   "cell_type": "markdown",
   "id": "7a93f995",
   "metadata": {},
   "source": [
    "# 4. Write a python program to implement word count using command line arguments.\n",
    "i)Create a text document \"apple.txt\" which contains text for wordcount.\n",
    "ii) Create a wordcount program which calls the \"apple.txt\" document by opening the file.\n",
    "iii) If the word is present again in the \"apple.txt\", the wordcount is incremented by 1 untill all the words are counted in the document.\n",
    "iv) Close the file.\n",
    "v) Create a command.py program which imports thewordcount.py program.\n",
    "vi) Count the number of words using command line arguments.\n",
    "v) Print each word and its count."
   ]
  },
  {
   "cell_type": "code",
   "execution_count": null,
   "id": "5123a258",
   "metadata": {},
   "outputs": [],
   "source": [
    "\n",
    "import sys\n",
    "from collections import Counter\n",
    "\n",
    "def count_words(filename):\n",
    "    try:\n",
    "        with open(filename, 'r') as file:\n",
    "            text = file.read()\n",
    "            words = text.split()\n",
    "            word_count = Counter(words)\n",
    "            return word_count\n",
    "\n",
    "    except FileNotFoundError:\n",
    "        print(f\"Error: The file '{filename}' was not found.\")\n",
    "        sys.exit(1)\n",
    "    except Exception as e:\n",
    "        print(f\"An error occurred: {e}\")\n",
    "        sys.exit(1)\n",
    "\n",
    "if __name__ == \"__main__\":\n",
    "    if len(sys.argv) != 2:\n",
    "        print(\"Usage: python wordcount.py <filename>\")\n",
    "        sys.exit(1)\n",
    "\n",
    "    filename = wordcount.py\n",
    "    word_count = count_words(filename)\n",
    "\n",
    "    for word, count in word_count.items():\n",
    "        print(f\"{word}: {count}\")"
   ]
  },
  {
   "cell_type": "markdown",
   "id": "f5cfad15",
   "metadata": {},
   "source": [
    "# 5. Write a python program for finding the most frequent wordsin a text read from a file.\n",
    "i) Initially open the text file in read mode.\n",
    "ii) Make all the letters in the document into lowercase letters and split the words in each line.\n",
    "iii) Get the words in an order.\n",
    "iv) Sort the words for finding the most frequent words in a file.\n",
    "v) Print the most frequent words in the file."
   ]
  },
  {
   "cell_type": "code",
   "execution_count": 12,
   "id": "7ad93d59",
   "metadata": {},
   "outputs": [
    {
     "name": "stdout",
     "output_type": "stream",
     "text": [
      "Top 10 most frequent words:\n",
      "hi: 2\n",
      "hey: 1\n",
      ",: 1\n",
      "have: 1\n",
      "a: 1\n",
      "nice: 1\n",
      "day!: 1\n"
     ]
    }
   ],
   "source": [
    "from collections import Counter\n",
    "\n",
    "# Step 1: Open the text file in read mode\n",
    "try:\n",
    "    with open('day4_sample.txt', 'r') as file:\n",
    "        # Step 2: Read and preprocess the text\n",
    "        text = file.read().lower()\n",
    "        words = text.split()\n",
    "\n",
    "        # Step 3: Count the frequency of each word\n",
    "        word_count = Counter(words)\n",
    "\n",
    "        # Step 4: Sort the words by frequency in descending order\n",
    "        sorted_words = sorted(word_count.items(), key=lambda x: x[1], reverse=True)\n",
    "\n",
    "        # Step 5: Print the most frequent words\n",
    "        num_most_frequent = 10  # Change this value to print more or fewer words\n",
    "        print(f\"Top {num_most_frequent} most frequent words:\")\n",
    "        for word, frequency in sorted_words[:num_most_frequent]:\n",
    "            print(f\"{word}: {frequency}\")\n",
    "\n",
    "except FileNotFoundError:\n",
    "    print(\"The specified file does not exist.\")\n",
    "except Exception as e:\n",
    "    print(f\"An error occurred: {e}\")"
   ]
  },
  {
   "cell_type": "markdown",
   "id": "7c285e8f",
   "metadata": {},
   "source": [
    "# 6. File processing with command line arguments- Scenario: You are developing a command-line utility that processes text files.Users can specify input and output file paths as command-line arguments.Your program should handle exceptions gracefully.\n",
    "i)Design a python program that takes two command-line arguments: the input file path and the output file path. Ensure that the program checks if both arguments are provided and that the input file exists.\n",
    "    ii) Implement error handling to deal with scenarios such as missing input file, invalid file paths, or permission issues when writing to the output file.\n",
    "    iii) If an error occurs during file processing, display a user-friendly error message, and exit the program with a non-zero exit code.\n",
    "    iv) write test cases that cover various scenarios, including providing valid and invalid file paths or command-line arguments."
   ]
  },
  {
   "cell_type": "code",
   "execution_count": null,
   "id": "0ae42a77",
   "metadata": {},
   "outputs": [],
   "source": [
    "import sys\n",
    "def process_file(input_file_path, output_file_path):\n",
    "    try:\n",
    "        # Check if both input and output file paths are provided\n",
    "        if not input_file_path or not output_file_path:\n",
    "            raise ValueError(\"Both input and output file paths are required.\")\n",
    "\n",
    "        # Attempt to open and read the input file\n",
    "        with open(input_file_path, 'r') as input_file:\n",
    "            file_contents = input_file.read()\n",
    "\n",
    "        # Process the file content (e.g., perform some operation)\n",
    "        # For demonstration, we'll just convert the content to uppercase.\n",
    "        processed_content = file_contents.upper()\n",
    "\n",
    "        # Write the processed content to the output file\n",
    "        with open(output_file_path, 'w') as output_file:\n",
    "            output_file.write(processed_content)\n",
    "\n",
    "        print(\"File processing completed successfully.\")\n",
    "\n",
    "    except FileNotFoundError:\n",
    "        print(f\"Error: Input file '{input_file_path}' not found.\")\n",
    "        sys.exit(1)\n",
    "    except PermissionError:\n",
    "        print(f\"Error: Permission denied when writing to '{output_file_path}'.\")\n",
    "        sys.exit(1)\n",
    "    except ValueError as e:\n",
    "        print(f\"Error: {e}\")\n",
    "        sys.exit(1)\n",
    "    except Exception as e:\n",
    "        print(f\"An error occurred: {e}\")\n",
    "        sys.exit(1)\n",
    "\n",
    "if __name__ == \"__main__\":\n",
    "    if len(sys.argv) != 3:\n",
    "        print(\"Usage: python file_processor.py <input_file> <output_file>\")\n",
    "        sys.exit(1)\n",
    "\n",
    "    input_file_path = sys.argv[1]\n",
    "    output_file_path = sys.argv[2]\n",
    "\n",
    "    process_file(input_file_path, output_file_path)"
   ]
  },
  {
   "cell_type": "code",
   "execution_count": null,
   "id": "66e03ebd",
   "metadata": {},
   "outputs": [],
   "source": [
    "import unittest\n",
    "import file_processor\n",
    "import os\n",
    "\n",
    "class TestFileProcessor(unittest.TestCase):\n",
    "    def test_valid_input_output(self):\n",
    "        input_file = 'input.txt'\n",
    "        output_file = 'output.txt'\n",
    "        with open(input_file, 'w') as f:\n",
    "            f.write('Test content')\n",
    "\n",
    "        file_processor.process_file(input_file, output_file)\n",
    "\n",
    "        with open(output_file, 'r') as f:\n",
    "            result = f.read()\n",
    "        \n",
    "        self.assertEqual(result, 'TEST CONTENT')\n",
    "\n",
    "        os.remove(input_file)\n",
    "        os.remove(output_file)\n",
    "\n",
    "    def test_missing_input_file(self):\n",
    "        input_file = 'nonexistent_input.txt'\n",
    "        output_file = 'output.txt'\n",
    "\n",
    "        with self.assertRaises(SystemExit) as cm:\n",
    "            file_processor.process_file(input_file, output_file)\n",
    "\n",
    "        self.assertEqual(cm.exception.code, 1)\n",
    "\n",
    "    def test_permission_error(self):\n",
    "        input_file = 'input.txt'\n",
    "        output_file = '/root/output.txt'\n",
    "\n",
    "        with self.assertRaises(SystemExit) as cm:\n",
    "            file_processor.process_file(input_file, output_file)\n",
    "\n",
    "        self.assertEqual(cm.exception.code, 1)\n",
    "\n",
    "    def test_missing_args(self):\n",
    "        with self.assertRaises(SystemExit) as cm:\n",
    "            file_processor.process_file('', '')\n",
    "\n",
    "        self.assertEqual(cm.exception.code, 1)\n",
    "\n",
    "if __name__ == '__main__':\n",
    "    unittest.main()\n"
   ]
  }
 ],
 "metadata": {
  "kernelspec": {
   "display_name": "Python 3 (ipykernel)",
   "language": "python",
   "name": "python3"
  },
  "language_info": {
   "codemirror_mode": {
    "name": "ipython",
    "version": 3
   },
   "file_extension": ".py",
   "mimetype": "text/x-python",
   "name": "python",
   "nbconvert_exporter": "python",
   "pygments_lexer": "ipython3",
   "version": "3.11.4"
  }
 },
 "nbformat": 4,
 "nbformat_minor": 5
}
