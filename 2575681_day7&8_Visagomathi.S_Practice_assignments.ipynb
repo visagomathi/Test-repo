{
 "cells": [
  {
   "cell_type": "markdown",
   "id": "3b596a6d",
   "metadata": {},
   "source": [
    "# 1. Write a python program to find a target values in a list using linear search with following steps:\n",
    "a. Initialize the list to store the input elements.\n",
    "b. Initialize found= False.\n",
    "c. Enter the item tobe searched (match_item).\n",
    "d. For each element in the list\n",
    "   1.if match_item = value\n",
    "     a. return match_item's position.\n",
    "e. If the match_item is not in the list, display an error message that the items is not found in the list."
   ]
  },
  {
   "cell_type": "code",
   "execution_count": 16,
   "id": "027e466f",
   "metadata": {},
   "outputs": [
    {
     "name": "stdout",
     "output_type": "stream",
     "text": [
      "Enter no of elements to be inserted:\t3\n",
      "Enter the Element 1:12\n",
      "Enter the Element 2:23\n",
      "Enter the Element 3:34\n",
      "Enter the value to be searched:\t34\n",
      "Element 34 Found at Position 3\n",
      "[12, 23, 34]\n"
     ]
    }
   ],
   "source": [
    "data=[]\n",
    "n=int(input('Enter no of elements to be inserted:\\t'))\n",
    "for i in range(0,n):\n",
    "    x=int(input('Enter the Element %d:'%(i+1)))\n",
    "    data.append(x)\n",
    "    \n",
    "e=int(input('Enter the value to be searched:\\t'))\n",
    "first=0\n",
    "last=n-1\n",
    "found=False\n",
    "while(first<=last and not found):\n",
    "    mid=(first+last)//2\n",
    "    if data[mid]==e:\n",
    "        found=True\n",
    "        \n",
    "    else:\n",
    "        if e<data[mid]:\n",
    "            last=mid-1\n",
    "        else:\n",
    "            first=mid+1\n",
    "            \n",
    "if found:\n",
    "    print('Element %d Found at Position %d'%(e,mid+1))\n",
    "else:\n",
    "    print('Element %d is not found in the list'%(e))\n",
    "    \n",
    "print(data)"
   ]
  },
  {
   "cell_type": "markdown",
   "id": "057f6305",
   "metadata": {},
   "source": [
    "# 2.Write a python program to implement binary search to find the target values from the list:\n",
    "a. Create a separate function to do binary search.\n",
    "b. Get the number of inputs from the user.\n",
    "c. Store the inputs from the user.\n",
    "d. In binary search function at first sort the list in order to start the search from middle of the list.\n",
    "e. Compare the middle element to right and left elements to search target element.\n",
    "f. If greater, move to right of list or else move to another side of the list.\n",
    "g. Print the result along with the position of the element."
   ]
  },
  {
   "cell_type": "code",
   "execution_count": 8,
   "id": "bd2f2db2",
   "metadata": {},
   "outputs": [
    {
     "name": "stdout",
     "output_type": "stream",
     "text": [
      "Enter the number of elements: 3\n",
      "Enter element 1: 1\n",
      "Enter element 2: 3\n",
      "Enter element 3: 6\n",
      "Enter the target element to search for: 6\n",
      "6 found at position 2.\n"
     ]
    }
   ],
   "source": [
    "def binary_search(arr, target):\n",
    "    left, right = 0, len(arr) - 1\n",
    "\n",
    "    while left <= right:\n",
    "        mid = (left + right) // 2  # Calculate the middle index\n",
    "\n",
    "        if arr[mid] == target:\n",
    "            return mid  # Target element found at index 'mid'\n",
    "        elif arr[mid] < target:\n",
    "            left = mid + 1  # Target element is in the right half\n",
    "        else:\n",
    "            right = mid - 1  # Target element is in the left half\n",
    "\n",
    "    return -1  # Target element is not in the list\n",
    "\n",
    "# Get the number of inputs from the user\n",
    "n = int(input(\"Enter the number of elements: \"))\n",
    "\n",
    "# Store the inputs from the user in a list\n",
    "input_list = []\n",
    "for i in range(n):\n",
    "    element = int(input(f\"Enter element {i + 1}: \"))\n",
    "    input_list.append(element)\n",
    "\n",
    "# Sort the list\n",
    "input_list.sort()\n",
    "\n",
    "# Get the target element from the user\n",
    "target_element = int(input(\"Enter the target element to search for: \"))\n",
    "\n",
    "# Perform binary search\n",
    "result = binary_search(input_list, target_element)\n",
    "\n",
    "if result != -1:\n",
    "    print(f\"{target_element} found at position {result}.\")\n",
    "else:\n",
    "    print(f\"{target_element} is not found in the list.\")\n"
   ]
  },
  {
   "cell_type": "markdown",
   "id": "584f6ee9",
   "metadata": {},
   "source": [
    "# 3. Write a python program for sorting a list of elements using selection sort algorithm:\n",
    "a. Assume two lists: Sorted list- Initially empty and Unsorted List- Given input list.\n",
    "b. In the first iteration, find the smallest element in the unsorted list and place it in the sorted list.\n",
    "c. In the second iteration, find the smallest element in the unsorted list and place it in the correct position by comparing with the element in the sorted list.\n",
    "d. In the third iteration, again find the smallest element in the unsorted list and place it in the correct position by comparing with the element in the sorted list.\n",
    "e. The process continues till the unsorted list becomes empty.\n",
    "f. Display the sorted list."
   ]
  },
  {
   "cell_type": "code",
   "execution_count": 11,
   "id": "3b114778",
   "metadata": {},
   "outputs": [
    {
     "name": "stdout",
     "output_type": "stream",
     "text": [
      "Sorted list is: [4, 5, 7, 9, 12]\n"
     ]
    }
   ],
   "source": [
    "def selection_sort(arr):\n",
    "    sorted_list = []  # Initialize an empty sorted list\n",
    "\n",
    "    while arr:\n",
    "        min_value = arr[0]\n",
    "        min_index = 0\n",
    "\n",
    "        # Find the minimum value and its index in the unsorted list\n",
    "        for i in range(1, len(arr)):\n",
    "            if arr[i] < min_value:\n",
    "                min_value = arr[i]\n",
    "                min_index = i\n",
    "\n",
    "        # Add the minimum value to the sorted list and remove it from the unsorted list\n",
    "        sorted_list.append(min_value)\n",
    "        arr.pop(min_index)\n",
    "\n",
    "    return sorted_list\n",
    "\n",
    "# Input the unsorted list\n",
    "input_list = [9, 5, 7, 12, 4]\n",
    "\n",
    "# Perform selection sort\n",
    "sorted_result = selection_sort(input_list)\n",
    "\n",
    "# Display the sorted list\n",
    "print(\"Sorted list is:\", sorted_result)\n"
   ]
  },
  {
   "cell_type": "markdown",
   "id": "05935ec8",
   "metadata": {},
   "source": [
    "# 4.Write a python program for sorting a list of elements using insertion sort algorithm:\n",
    "a. Assume two lists: Sorted list- Initially empty and Unsorted List- Given input list.\n",
    "b. In the first iteration,take the first element in the unsorted list and insert it in  Sorted list.\n",
    "c. In the second iteration, take the second element in the given list and compare with the element in the sorted sub list and place it in the correct position.\n",
    "d. In the third iteration, take the third element in the given ist and compare with the elements in the sorted sub list and place the elements in the correct position.\n",
    "e. This process continues until the last element is inserted in the sorted sub list.\n",
    "f. Display the sorted elements."
   ]
  },
  {
   "cell_type": "code",
   "execution_count": 14,
   "id": "59444eca",
   "metadata": {},
   "outputs": [
    {
     "name": "stdout",
     "output_type": "stream",
     "text": [
      "Sorted list is: [10, 20, 50, 75, 100, 125]\n"
     ]
    }
   ],
   "source": [
    "def insertion_sort(arr):\n",
    "    for i in range(1, len(arr)):\n",
    "        current_element = arr[i]\n",
    "        j = i - 1\n",
    "\n",
    "        # Compare the current element with the elements in the sorted sublist\n",
    "        while j >= 0 and current_element < arr[j]:\n",
    "            arr[j + 1] = arr[j]  # Shift the larger element to the right\n",
    "            j -= 1\n",
    "\n",
    "        # Insert the current element in the correct position\n",
    "        arr[j + 1] = current_element\n",
    "\n",
    "    return arr\n",
    "\n",
    "# Input the unsorted list\n",
    "input_list = [100, 20, 75, 50, 10, 125]\n",
    "\n",
    "# Perform insertion sort\n",
    "sorted_result = insertion_sort(input_list)\n",
    "\n",
    "# Display the sorted list\n",
    "print(\"Sorted list is:\", sorted_result)\n"
   ]
  },
  {
   "cell_type": "markdown",
   "id": "38f5de81",
   "metadata": {},
   "source": [
    "# 5. Write a python program that performs merge sort on a list of numbers:\n",
    "a. Divide: If the given array has zero or one element, return.\n",
    "          1. Otherwise.\n",
    "    ii. Divide the input list into two halves each containing half of the elements. i.e. lefthalf and right half.\n",
    "b. Conquer: Recursively sort the two lists (left half and right half).\n",
    "      a. Call the merge sort on left half.\n",
    "      b. Call the merge sort on right half.\n",
    "c. Combine: Combine the elements back in the input list by merging the two sorted lists into a sorted sequence."
   ]
  },
  {
   "cell_type": "code",
   "execution_count": 20,
   "id": "8467df00",
   "metadata": {},
   "outputs": [
    {
     "name": "stdout",
     "output_type": "stream",
     "text": [
      "Sorted list: [76, 123, 456, 876, 982]\n"
     ]
    }
   ],
   "source": [
    "def merge_sort(arr):\n",
    "    if len(arr) <= 1:\n",
    "        return arr\n",
    "\n",
    "    # Divide the input list into two halves\n",
    "    mid = len(arr) // 2\n",
    "    left_half = arr[:mid]\n",
    "    right_half = arr[mid:]\n",
    "\n",
    "    # Recursively sort the two halves\n",
    "    left_half = merge_sort(left_half)\n",
    "    right_half = merge_sort(right_half)\n",
    "\n",
    "    # Merge the sorted halves\n",
    "    sorted_arr = merge(left_half, right_half)\n",
    "\n",
    "    return sorted_arr\n",
    "\n",
    "def merge(left, right):\n",
    "    result = []\n",
    "    left_idx, right_idx = 0, 0\n",
    "\n",
    "    while left_idx < len(left) and right_idx < len(right):\n",
    "        if left[left_idx] < right[right_idx]:\n",
    "            result.append(left[left_idx])\n",
    "            left_idx += 1\n",
    "        else:\n",
    "            result.append(right[right_idx])\n",
    "            right_idx += 1\n",
    "\n",
    "    result.extend(left[left_idx:])\n",
    "    result.extend(right[right_idx:])\n",
    "\n",
    "    return result\n",
    "\n",
    "# Input the list of numbers to be sorted\n",
    "input_list = [456, 876, 982, 123, 76]\n",
    "\n",
    "# Perform merge sort\n",
    "sorted_result = merge_sort(input_list)\n",
    "\n",
    "# Display the sorted list\n",
    "print(\"Sorted list:\", sorted_result)\n"
   ]
  },
  {
   "cell_type": "markdown",
   "id": "c5de6c78",
   "metadata": {},
   "source": [
    "# 6.Write a python script to perform thefollowing operations on a singly linkedlist\n",
    "a. create a list\n",
    "b. Find the smallest element from the list.\n",
    "c. Insert an element if it is not a duplicate element.\n",
    "d. Display the elements in reverse order.\n"
   ]
  },
  {
   "cell_type": "code",
   "execution_count": 28,
   "id": "64ec6c84",
   "metadata": {},
   "outputs": [
    {
     "name": "stdout",
     "output_type": "stream",
     "text": [
      "Smallest element in the list is: 1\n",
      "Elements in reverse order:\n",
      "3 8 1 10 26 18 72 59 \n"
     ]
    }
   ],
   "source": [
    "class Node:\n",
    "    def __init__(self, data):\n",
    "        self.data = data\n",
    "        self.next = None\n",
    "\n",
    "class LinkedList:\n",
    "    def __init__(self):\n",
    "        self.head = None\n",
    "\n",
    "    # Function to add a new element to the end of the list\n",
    "    def append(self, data):\n",
    "        new_node = Node(data)\n",
    "        if not self.head:\n",
    "            self.head = new_node\n",
    "        else:\n",
    "            current = self.head\n",
    "            while current.next:\n",
    "                current = current.next\n",
    "            current.next = new_node\n",
    "\n",
    "    # Function to find the smallest element in the list\n",
    "    def find_smallest(self):\n",
    "        if not self.head:\n",
    "            return None\n",
    "        current = self.head\n",
    "        smallest = current.data\n",
    "        while current.next:\n",
    "            current = current.next\n",
    "            if current.data < smallest:\n",
    "                smallest = current.data\n",
    "        return smallest\n",
    "\n",
    "    # Function to insert an element if it's not a duplicate\n",
    "    def insert_unique(self, data):\n",
    "        if not self.head:\n",
    "            self.head = Node(data)\n",
    "            return\n",
    "        current = self.head\n",
    "        while current.next:\n",
    "            if current.data == data:\n",
    "                return  # Element already exists, no need to insert\n",
    "            current = current.next\n",
    "        if current.data != data:\n",
    "            current.next = Node(data)\n",
    "\n",
    "    # Function to display elements in reverse order\n",
    "    def display_reverse(self):\n",
    "        def print_reverse(node):\n",
    "            if node:\n",
    "                print_reverse(node.next)\n",
    "                print(node.data, end=\" \")\n",
    "\n",
    "        print(\"Elements in reverse order:\")\n",
    "        print_reverse(self.head)\n",
    "        print()\n",
    "\n",
    "\n",
    "# Example usage:\n",
    "if __name__ == \"__main__\":\n",
    "    linked_list = LinkedList()\n",
    "    \n",
    "    # Creating a list\n",
    "    elements = [59, 72, 18, 26, 10, 1]\n",
    "    for element in elements:\n",
    "        linked_list.append(element)\n",
    "\n",
    "    # Find the smallest element\n",
    "    smallest = linked_list.find_smallest()\n",
    "    print(f\"Smallest element in the list is: {smallest}\")\n",
    "\n",
    "    # Insert an element if it's not a duplicate\n",
    "    linked_list.insert_unique(8)\n",
    "    linked_list.insert_unique(3)\n",
    "\n",
    "    # Display elements in reverse order\n",
    "    linked_list.display_reverse()\n"
   ]
  },
  {
   "cell_type": "markdown",
   "id": "26747cc7",
   "metadata": {},
   "source": [
    "# 7. write a python program to implement the various operations for stack ADT. \n",
    "i) Push ii) Pop iii) Display."
   ]
  },
  {
   "cell_type": "code",
   "execution_count": 30,
   "id": "384b2e57",
   "metadata": {},
   "outputs": [
    {
     "name": "stdout",
     "output_type": "stream",
     "text": [
      "Stack elements:\n",
      "90\n",
      "15\n",
      "5\n",
      "Popped item: 90\n",
      "Stack elements:\n",
      "15\n",
      "5\n"
     ]
    }
   ],
   "source": [
    "class Stack:\n",
    "    def __init__(self):\n",
    "        self.items = []\n",
    "\n",
    "    def push(self, item):\n",
    "        \"\"\"Push an item onto the stack.\"\"\"\n",
    "        self.items.append(item)\n",
    "\n",
    "    def pop(self):\n",
    "        \"\"\"Pop and return the top item from the stack.\"\"\"\n",
    "        if not self.is_empty():\n",
    "            return self.items.pop()\n",
    "        else:\n",
    "            print(\"Stack is empty.\")\n",
    "            return None\n",
    "\n",
    "    def is_empty(self):\n",
    "        \"\"\"Check if the stack is empty.\"\"\"\n",
    "        return len(self.items) == 0\n",
    "\n",
    "    def display(self):\n",
    "        \"\"\"Display the elements in the stack.\"\"\"\n",
    "        if not self.is_empty():\n",
    "            print(\"Stack elements:\")\n",
    "            for item in reversed(self.items):\n",
    "                print(item)\n",
    "        else:\n",
    "            print(\"Stack is empty.\")\n",
    "\n",
    "\n",
    "if __name__ == \"__main__\":\n",
    "    stack = Stack()\n",
    "\n",
    "    # Push elements onto the stack\n",
    "    stack.push(5)\n",
    "    stack.push(15)\n",
    "    stack.push(90)\n",
    "\n",
    "    stack.display()\n",
    "\n",
    "    # Pop elements from the stack\n",
    "    popped_item = stack.pop()\n",
    "    if popped_item is not None:\n",
    "        print(f\"Popped item: {popped_item}\")\n",
    "\n",
    "    stack.display()\n"
   ]
  },
  {
   "cell_type": "markdown",
   "id": "86aff75a",
   "metadata": {},
   "source": [
    "# 8.write a python program to implement the various operations for queue ADT. \n",
    "i) Push ii) Pop iii) Display."
   ]
  },
  {
   "cell_type": "code",
   "execution_count": 31,
   "id": "5fcff0e6",
   "metadata": {},
   "outputs": [
    {
     "name": "stdout",
     "output_type": "stream",
     "text": [
      "Queue elements:\n",
      "5\n",
      "15\n",
      "90\n",
      "Popped item: 5\n",
      "Queue elements:\n",
      "15\n",
      "90\n"
     ]
    }
   ],
   "source": [
    "class Queue:\n",
    "    def __init__(self):\n",
    "        self.items = []\n",
    "\n",
    "    def push(self, item):\n",
    "        \"\"\"Push (enqueue) an item to the back of the queue.\"\"\"\n",
    "        self.items.append(item)\n",
    "\n",
    "    def pop(self):\n",
    "        \"\"\"Pop (dequeue) an item from the front of the queue.\"\"\"\n",
    "        if not self.is_empty():\n",
    "            return self.items.pop(0)\n",
    "        else:\n",
    "            print(\"Queue is empty.\")\n",
    "            return None\n",
    "\n",
    "    def is_empty(self):\n",
    "        \"\"\"Check if the queue is empty.\"\"\"\n",
    "        return len(self.items) == 0\n",
    "\n",
    "    def display(self):\n",
    "        \"\"\"Display the elements in the queue.\"\"\"\n",
    "        if not self.is_empty():\n",
    "            print(\"Queue elements:\")\n",
    "            for item in self.items:\n",
    "                print(item)\n",
    "        else:\n",
    "            print(\"Queue is empty.\")\n",
    "\n",
    "\n",
    "if __name__ == \"__main__\":\n",
    "    queue = Queue()\n",
    "\n",
    "    # Push elements to the back of the queue (enqueue)\n",
    "    queue.push(5)\n",
    "    queue.push(15)\n",
    "    queue.push(90)\n",
    " \n",
    "    queue.display()\n",
    "\n",
    "    # Pop elements from the front of the queue (dequeue)\n",
    "    popped_item = queue.pop()\n",
    "    if popped_item is not None:\n",
    "        print(f\"Popped item: {popped_item}\")\n",
    "\n",
    "    queue.display()\n"
   ]
  },
  {
   "cell_type": "markdown",
   "id": "46da723d",
   "metadata": {},
   "source": [
    "# 9. write a program in python to convert the following infix expression to its potfix form using push and pop operations of a stack.\n",
    "a. A/B^C+D*E-F*G\n",
    "b. (B^2-4*A*C)^(1/2)(100)"
   ]
  },
  {
   "cell_type": "code",
   "execution_count": 29,
   "id": "7e21c089",
   "metadata": {},
   "outputs": [
    {
     "name": "stdout",
     "output_type": "stream",
     "text": [
      "Infix Expression A: A/B^C+D*E-F*G\n",
      "Postfix Expression A: ABC^/DE*+FG*-\n",
      "\n",
      "Infix Expression B: (B^2-4*A*C)^(1/2)(100)\n",
      "Postfix Expression B: B2^4A*C*-12/100^\n"
     ]
    }
   ],
   "source": [
    "def infix_to_postfix(expression):\n",
    "    precedence = {'+': 1, '-': 1, '*': 2, '/': 2, '^': 3}\n",
    "\n",
    "    def is_operator(char):\n",
    "        return char in \"+-*/^\"\n",
    "\n",
    "    def higher_precedence(op1, op2):\n",
    "        return precedence[op1] >= precedence[op2]\n",
    "\n",
    "    postfix = []\n",
    "    stack = []\n",
    "\n",
    "    for char in expression:\n",
    "        if char.isalnum():  # Operand\n",
    "            postfix.append(char)\n",
    "        elif char == '(':\n",
    "            stack.append(char)\n",
    "        elif char == ')':\n",
    "            while stack and stack[-1] != '(':\n",
    "                postfix.append(stack.pop())\n",
    "            stack.pop()  # Pop the '('\n",
    "        elif is_operator(char):\n",
    "            while stack and stack[-1] != '(' and higher_precedence(stack[-1], char):\n",
    "                postfix.append(stack.pop())\n",
    "            stack.append(char)\n",
    "\n",
    "    while stack:\n",
    "        postfix.append(stack.pop())\n",
    "\n",
    "    return ''.join(postfix)\n",
    "\n",
    "# Example usage:\n",
    "infix_expression_a = \"A/B^C+D*E-F*G\"\n",
    "infix_expression_b = \"(B^2-4*A*C)^(1/2)(100)\"\n",
    "\n",
    "postfix_expression_a = infix_to_postfix(infix_expression_a)\n",
    "postfix_expression_b = infix_to_postfix(infix_expression_b)\n",
    "\n",
    "print(\"Infix Expression A:\", infix_expression_a)\n",
    "print(\"Postfix Expression A:\", postfix_expression_a)\n",
    "\n",
    "print(\"\\nInfix Expression B:\", infix_expression_b)\n",
    "print(\"Postfix Expression B:\", postfix_expression_b)\n"
   ]
  }
 ],
 "metadata": {
  "kernelspec": {
   "display_name": "Python 3 (ipykernel)",
   "language": "python",
   "name": "python3"
  },
  "language_info": {
   "codemirror_mode": {
    "name": "ipython",
    "version": 3
   },
   "file_extension": ".py",
   "mimetype": "text/x-python",
   "name": "python",
   "nbconvert_exporter": "python",
   "pygments_lexer": "ipython3",
   "version": "3.11.4"
  }
 },
 "nbformat": 4,
 "nbformat_minor": 5
}
