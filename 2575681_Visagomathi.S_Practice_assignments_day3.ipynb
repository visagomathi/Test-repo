{
 "cells": [
  {
   "cell_type": "markdown",
   "id": "a0f4c305",
   "metadata": {},
   "source": [
    "# 1.write a python function that copies a file reading and wrting upto 50 characters at a time"
   ]
  },
  {
   "cell_type": "code",
   "execution_count": 5,
   "id": "75492180",
   "metadata": {},
   "outputs": [
    {
     "name": "stdout",
     "output_type": "stream",
     "text": [
      "File 'C:\\Users\\dell\\Documents\\documents.txt' copied to 'src.txt'.\n"
     ]
    }
   ],
   "source": [
    "def cpy_file(src_file, dest_file):\n",
    "    try:\n",
    "        with open(src_file, 'rb') as source, open(dest_file, 'wb') as destination:\n",
    "            while True:\n",
    "                chunk = source.read(50)\n",
    "                if not chunk:\n",
    "                    break\n",
    "                destination.write(chunk)\n",
    "        print(f\"File '{src_file}' copied to '{dest_file}'.\")\n",
    "    except FileNotFoundError:\n",
    "        print(f\"Error: '{src_file}' not found.\")\n",
    "    except Exception as e:\n",
    "        print(f\"An error occurred: {str(e)}\")\n",
    "\n",
    "source_file = r'C:\\Users\\dell\\Documents\\documents.txt'  \n",
    "destination_file = 'src.txt'  \n",
    "\n",
    "cpy_file(source_file, destination_file)"
   ]
  },
  {
   "cell_type": "markdown",
   "id": "540b01da",
   "metadata": {},
   "source": [
    "# 2.print all numbers present in the text file and print the number of blank spaces in that file. "
   ]
  },
  {
   "cell_type": "code",
   "execution_count": 67,
   "id": "d01f974b",
   "metadata": {},
   "outputs": [
    {
     "name": "stdout",
     "output_type": "stream",
     "text": [
      "Numbers in the file: ['1', '2', '3']\n",
      "Number of blank spaces: 6\n"
     ]
    }
   ],
   "source": [
    "import re\n",
    "\n",
    "def count_spaces(file_path):\n",
    "    try:\n",
    "        with open(file_path, 'r') as file:\n",
    "            content = file.read()\n",
    "            \n",
    "            \n",
    "            numbers = re.findall(r'\\d+', content)\n",
    "            print(\"Numbers in the file:\", numbers)\n",
    "            \n",
    "            blank_space_count = content.count(' ')\n",
    "            print(\"Number of blank spaces:\", blank_space_count)\n",
    "    except FileNotFoundError:\n",
    "        print(f\"Error: '{file_path}' not found.\")\n",
    "    except Exception as e:\n",
    "        print(f\"An error occurred: {str(e)}\")\n",
    "\n",
    "file_path = r'C:\\Users\\dell\\Documents\\sample2.txt'  \n",
    "count_spaces(file_path)\n"
   ]
  },
  {
   "cell_type": "markdown",
   "id": "45e7be44",
   "metadata": {},
   "source": [
    "# 3. write a function called sed that takes as arguments a pattern string, a replacement string, and two  filenames; it should read the first file and write the contents into the second file(creating if it necessary). If the pattern string appears anywhere in the file , it should be replaced with the replacement string. If an error occurs while opening , reading, writing, or closing files, your program should catch the exception, print an error message , and exit"
   ]
  },
  {
   "cell_type": "code",
   "execution_count": 68,
   "id": "def28a7d",
   "metadata": {},
   "outputs": [
    {
     "name": "stdout",
     "output_type": "stream",
     "text": [
      "File 'sample_in3.txt' processed and saved as 'sample_out3.txt' successfully.\n"
     ]
    }
   ],
   "source": [
    "def sed(pattern, replacement, input_file, output_file):\n",
    "    try:\n",
    "        with open(input_file, 'r') as infile, open(output_file, 'w') as outfile:\n",
    "            for line in infile:\n",
    "                updated_line = line.replace(pattern, replacement)\n",
    "                outfile.write(updated_line)\n",
    "        print(f\"File '{input_file}' processed and saved as '{output_file}'.\")\n",
    "    except FileNotFoundError:\n",
    "        print(f\"Error: '{input_file}' not found.\")\n",
    "    except Exception as e:\n",
    "        print(f\"An error occurred: {str(e)}\")\n",
    "\n",
    "\n",
    "pattern = \"good\"\n",
    "replace_with = \"great\"\n",
    "input_fname = \"sample_in3.txt\"\n",
    "output_fname = \"sample_out3.txt\"\n",
    "\n",
    "sed(pattern, replace_with, input_fname, output_fname)\n"
   ]
  },
  {
   "cell_type": "markdown",
   "id": "d90ccbca",
   "metadata": {},
   "source": [
    "# 4.Log file Analysis: You have a log file containing records of user activities on a website.Each line in the file represents a log entry with details like timestamp, user ID and action performed.Your task is to analyze this log file\n",
    "    a.Write Python code to read the log file and extract specific information, such as the number of unique users or the most common action\n",
    "    b.How would you handle large log files efficiently without loading the entire file into memory?"
   ]
  },
  {
   "cell_type": "code",
   "execution_count": 13,
   "id": "733f85f6",
   "metadata": {},
   "outputs": [
    {
     "name": "stdout",
     "output_type": "stream",
     "text": [
      "Date: [2023-09-0\n",
      "Total Entries: 1613\n",
      "Sample Entries:\n",
      "1. 21:51:29] Executing bootstrap tasks\n",
      "2. 21:51:29] OpenJDK Runtime Environment 17.0.7+7\n",
      "3. 21:51:29] Product org.eclipse.products.epp.package.java.2023-06\n",
      "4. 21:51:29] Bundle org.eclipse.oomph.setup 1.26.0.v20230416-0656, build=5945, branch=c5558820f367665758d4d719b7553a02ff4954e0\n",
      "5. 21:51:29] Bundle org.eclipse.oomph.setup.core 1.27.0.v20230402-0730, build=5945, branch=c5558820f367665758d4d719b7553a02ff4954e0\n",
      "-----\n"
     ]
    }
   ],
   "source": [
    "def log(log_file_path):\n",
    "    log_entries_by_date = {}\n",
    "    with open(log_file_path, 'r') as log_file:\n",
    "        for line in log_file:\n",
    "            parts= line.strip().split(' ', 1)\n",
    "            if len(parts) == 2:\n",
    "                timestamp, message = parts\n",
    "                date = timestamp[:10]\n",
    "                if date in log_entries_by_date:\n",
    "                    log_entries_by_date[date].append(message)\n",
    "                else:\n",
    "                    log_entries_by_date[date] = [message]\n",
    "    return log_entries_by_date\n",
    "\n",
    "def analyze_log_data(log_entries_by_date):\n",
    "    for date, entries in log_entries_by_date.items():\n",
    "        print(f\"Date: {date}\")\n",
    "        print(f\"Total Entries: {len(entries)}\")\n",
    "        print(\"Sample Entries:\")\n",
    "        for i, entry in enumerate(entries[:5], start=1):\n",
    "            print(f\"{i}. {entry}\")\n",
    "        print(\"-----\")\n",
    "        \n",
    "        \n",
    "if __name__ == \"__main__\":\n",
    "    log_file_path = 'logfile.log'\n",
    "    log_entries_by_date = log(log_file_path)\n",
    "    analyze_log_data(log_entries_by_date)  "
   ]
  },
  {
   "cell_type": "markdown",
   "id": "f6298028",
   "metadata": {},
   "source": [
    "# 5.Text file search and replace:You have a text file witha large amount of text, and you want to search words or phrases and replace them with new content\n",
    "    a.Write Python code to search for and replace text within a text file\n",
    "    b. How would you handle cases where you need to perform multiple replacements in a single pass?"
   ]
  },
  {
   "cell_type": "code",
   "execution_count": 6,
   "id": "43206e24",
   "metadata": {},
   "outputs": [
    {
     "name": "stdout",
     "output_type": "stream",
     "text": [
      "Multiple search and replace complete in 'sample_in5.txt'\n"
     ]
    }
   ],
   "source": [
    "def search_replace(file_path, replacements):\n",
    "    try:\n",
    "       \n",
    "        with open(file_path, 'r') as file:\n",
    "            file_content = file.read()\n",
    "\n",
    "        \n",
    "        for search_text, replace_text in replacements:\n",
    "            file_content = file_content.replace(search_text, replace_text)\n",
    "\n",
    "        with open(file_path, 'w') as file:\n",
    "            file.write(file_content)\n",
    "\n",
    "        print(f\"Multiple search and replace complete in '{file_path}'\")\n",
    "    except FileNotFoundError:\n",
    "        print(f\"Error: '{file_path}' not found.\")\n",
    "    except Exception as e:\n",
    "        print(f\"An error occurred: {str(e)}\")\n",
    "\n",
    "\n",
    "file_path = 'sample_in5.txt'  \n",
    "replacements = [('evening', 'morning'), ('all', 'people')]\n",
    "\n",
    "search_replace(file_path, replacements)\n"
   ]
  },
  {
   "cell_type": "markdown",
   "id": "3b34c22b",
   "metadata": {},
   "source": [
    "# 6. write a python script that concatenates the contents of multiple text files into a single output file. Allow the user to specify the input and the output file."
   ]
  },
  {
   "cell_type": "code",
   "execution_count": 62,
   "id": "2571a3de",
   "metadata": {},
   "outputs": [
    {
     "name": "stdout",
     "output_type": "stream",
     "text": [
      "Enter an input file name (or 'done' to finish): sample_in6\n",
      "Enter an input file name (or 'done' to finish): done\n",
      "Enter the output file name: sample_out6\n",
      "Concatenated 1 files into 'sample_out6' successfully.\n"
     ]
    }
   ],
   "source": [
    "def concatenate_files(input_files, output_file):\n",
    "    try:\n",
    "        with open(output_file, 'w') as output:\n",
    "            for input_file in input_files:\n",
    "                with open(input_file, 'r') as infile:\n",
    "                    output.write(infile.read())\n",
    "        print(f\"Concatenated {len(input_files)} files into '{output_file}' successfully.\")\n",
    "    except FileNotFoundError:\n",
    "        print(\"Error: One or more input files not found.\")\n",
    "    except Exception as e:\n",
    "        print(f\"An error occurred: {str(e)}\")\n",
    "\n",
    "if __name__ == \"__main__\":\n",
    "    input_files = []\n",
    "\n",
    "    while True:\n",
    "        file_name = input(\"Enter an input file name (or 'done' to finish): \")\n",
    "        if file_name.lower() == 'done':\n",
    "            break\n",
    "        input_files.append(file_name)\n",
    "\n",
    "    if not input_files:\n",
    "        print(\"No input files provided. Exiting.\")\n",
    "    else:\n",
    "        output_file = input(\"Enter the output file name: \")\n",
    "\n",
    "        concatenate_files(input_files, output_file)\n"
   ]
  },
  {
   "cell_type": "markdown",
   "id": "0fc64705",
   "metadata": {},
   "source": [
    "# 7. You are given a text file named input.txt containing a list of words, one word per line. Your task is to create a python program that reads the contents of input.txt, processes the words, and writes the result to an output file named output.txt. a. The program should perform the following operations: \n",
    "i)Read the words from input.txt. \n",
    "ii) For each word in the input file, calculate the length of the word and store it in a dictionary where the word is the key, and the length is the value. \n",
    "iii) Write the word-length dictionary to output.txt in the following format: \n",
    "Word1: Length1  Word2: Length2. \n",
    "iv) Close both input and output files properly. v) Write python code to accomplish this task . Ensure proper error handling for  file operations."
   ]
  },
  {
   "cell_type": "code",
   "execution_count": 8,
   "id": "ee13867c",
   "metadata": {},
   "outputs": [
    {
     "name": "stdout",
     "output_type": "stream",
     "text": [
      "Processed and saved to 'sample_out7.txt'.\n"
     ]
    }
   ],
   "source": [
    "def process_wds(input_filename, output_filename):\n",
    "    word_length_dict = {}\n",
    "\n",
    "    try:\n",
    "        \n",
    "        with open(input_filename, 'r') as input_file:\n",
    "            for line in input_file:\n",
    "                word = line.strip()\n",
    "                word_length_dict[word] = len(word)\n",
    "\n",
    "        with open(output_filename, 'w') as output_file:\n",
    "            for word, length in word_length_dict.items():\n",
    "                output_file.write(f\"{word}: {length}\\n\")\n",
    "\n",
    "        print(f\"Processed and saved to '{output_filename}'.\")\n",
    "    except FileNotFoundError:\n",
    "        print(f\"Error: '{input_filename}' not found.\")\n",
    "    except PermissionError:\n",
    "        print(f\"Error: Permission denied'{output_filename}'.\")\n",
    "    except Exception as e:\n",
    "        print(f\"An error occurred: {str(e)}\")\n",
    "\n",
    "if __name__ == \"__main__\":\n",
    "    input_filename = \"sample_in7.txt\"\n",
    "    output_filename = \"sample_out7.txt\"\n",
    "\n",
    "    process_wds(input_filename, output_filename)\n"
   ]
  },
  {
   "cell_type": "markdown",
   "id": "cf92ba4f",
   "metadata": {},
   "source": [
    "# 8.Assume that you are developing a student gradebook system for a school. The system should allow teachers to input student grades for various subjects, store the data in files and provide students with the ability to view their grades\n",
    "Design a python program that accomplishes the following tasks\n",
    "i) Teachers should be able to input grades for students in different subjects\n",
    "ii) Store the student grade data in seperate text files for each subject\n",
    "iii) Students should be able to view their grades for each subject\n",
    "iv) Implement error handling for file operations, such as file not found or permission issues"
   ]
  },
  {
   "cell_type": "code",
   "execution_count": 14,
   "id": "fe805232",
   "metadata": {},
   "outputs": [
    {
     "name": "stdout",
     "output_type": "stream",
     "text": [
      "Options:\n",
      "1. Input Grades\n",
      "2. View Grades\n",
      "3. Quit\n",
      "Enter your choice: 1\n",
      "Enter the subject name: english\n",
      "Enter the number of students for english: 2\n",
      "Enter the grade for Student 1: 90\n",
      "Enter the grade for Student 2: 98\n",
      "Grades for english have been recorded.\n",
      "Options:\n",
      "1. Input Grades\n",
      "2. View Grades\n",
      "3. Quit\n",
      "Enter your choice: 3\n"
     ]
    }
   ],
   "source": [
    "import os\n",
    "\n",
    "def inp_grades(subject):\n",
    "    try:\n",
    "        \n",
    "        num_students = int(input(f\"Enter the number of students for {subject}: \"))\n",
    "        grades = []\n",
    "  \n",
    "        for i in range(1, num_students + 1):\n",
    "            grade = float(input(f\"Enter the grade for Student {i}: \"))\n",
    "            grades.append(grade)\n",
    "        \n",
    " \n",
    "        with open(f\"{subject}.txt\", \"w\") as file:\n",
    "            for grade in grades:\n",
    "                file.write(str(grade) + \"\\n\")\n",
    "        \n",
    "        print(f\"Grades for {subject} have been recorded.\")\n",
    "    except ValueError:\n",
    "        print(\"Error: Please enter a valid number for grades.\")\n",
    "    except Exception as e:\n",
    "        print(f\"An error occurred: {str(e)}\")\n",
    "\n",
    "def view_grades(subject):\n",
    "    try:\n",
    "        \n",
    "        with open(f\"{subject}.txt\", \"r\") as file:\n",
    "            grades = [float(line.strip()) for line in file]\n",
    "        \n",
    "        print(f\"Grades for {subject}:\")\n",
    "        for i, grade in enumerate(grades, start=1):\n",
    "            print(f\"Student {i}: {grade}\")\n",
    "    except FileNotFoundError:\n",
    "        print(f\"Error: Grades for {subject} not found.\")\n",
    "    except PermissionError:\n",
    "        print(f\"Error: Permission denied to access grades for {subject}.\")\n",
    "    except Exception as e:\n",
    "        print(f\"An error occurred: {str(e)}\")\n",
    "\n",
    "if __name__ == \"__main__\":\n",
    "    while True:\n",
    "        print(\"Options:\")\n",
    "        print(\"1. Input Grades\")\n",
    "        print(\"2. View Grades\")\n",
    "        print(\"3. Quit\")\n",
    "        \n",
    "        choice = input(\"Enter your choice: \")\n",
    "        \n",
    "        if choice == \"1\":\n",
    "            subject = input(\"Enter the subject name: \")\n",
    "            inp_grades(subject)\n",
    "        elif choice == \"2\":\n",
    "            subject = input(\"Enter the subject name: \")\n",
    "            view_grades(subject)\n",
    "        elif choice == \"3\":\n",
    "            break\n",
    "        else:\n",
    "            print(\"Invalid choice.\")\n"
   ]
  },
  {
   "cell_type": "code",
   "execution_count": null,
   "id": "dee4d45f",
   "metadata": {},
   "outputs": [],
   "source": []
  }
 ],
 "metadata": {
  "kernelspec": {
   "display_name": "Python 3 (ipykernel)",
   "language": "python",
   "name": "python3"
  },
  "language_info": {
   "codemirror_mode": {
    "name": "ipython",
    "version": 3
   },
   "file_extension": ".py",
   "mimetype": "text/x-python",
   "name": "python",
   "nbconvert_exporter": "python",
   "pygments_lexer": "ipython3",
   "version": "3.11.4"
  }
 },
 "nbformat": 4,
 "nbformat_minor": 5
}
