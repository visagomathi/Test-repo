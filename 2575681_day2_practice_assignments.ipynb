{
 "cells": [
  {
   "cell_type": "code",
   "execution_count": null,
   "id": "67c2b3e4",
   "metadata": {},
   "outputs": [],
   "source": [
    "#1.Write a python function to list even and odd numbers in a list"
   ]
  },
  {
   "cell_type": "code",
   "execution_count": 2,
   "id": "bf323a11",
   "metadata": {},
   "outputs": [
    {
     "name": "stdout",
     "output_type": "stream",
     "text": [
      "Even numbers: [2, 4, 6, 8]\n",
      "Odd numbers: [1, 3, 5, 7, 9]\n"
     ]
    }
   ],
   "source": [
    "def even_odd(numbers):\n",
    "    even_numbers = []\n",
    "    odd_numbers = []\n",
    "\n",
    "    for num in numbers:\n",
    "        if num % 2 == 0:\n",
    "            even_numbers.append(num)\n",
    "        else:\n",
    "            odd_numbers.append(num)\n",
    "\n",
    "    return even_numbers, odd_numbers\n",
    "\n",
    "# Example usage:\n",
    "numbers_list = [1, 2, 3, 4, 5, 6, 7, 8, 9]\n",
    "even, odd = even_odd(numbers_list)\n",
    "print(\"Even numbers:\", even)\n",
    "print(\"Odd numbers:\", odd)\n"
   ]
  },
  {
   "cell_type": "code",
   "execution_count": null,
   "id": "160f97a7",
   "metadata": {},
   "outputs": [],
   "source": [
    "#2. write and run a python program that asks the user to enter 8 digits(one at a time )and then prints out how many of those integers were even numbers. For example if the user entered 19,6,9, 20, 13,7,6 and 1 then your program should print 3 , since 3 of those numbers were even."
   ]
  },
  {
   "cell_type": "code",
   "execution_count": 4,
   "id": "4a0ea895",
   "metadata": {},
   "outputs": [
    {
     "name": "stdout",
     "output_type": "stream",
     "text": [
      "Enter digit 1: 10\n",
      "Enter digit 2: 9\n",
      "Enter digit 3: 8\n",
      "Enter digit 4: 7\n",
      "Enter digit 5: 6\n",
      "Enter digit 6: 5\n",
      "Enter digit 7: 4\n",
      "Enter digit 8: 3\n",
      "Number of even digits: 4\n"
     ]
    }
   ],
   "source": [
    "even_count = 0\n",
    "\n",
    "for i in range(8):\n",
    "    try:\n",
    "        \n",
    "        digit = int(input(f\"Enter digit {i+1}: \"))\n",
    "        if digit % 2 == 0:\n",
    "            even_count = even_count + 1\n",
    "    except ValueError:\n",
    "        print(\"Invalid input. Please enter a valid digit.\")\n",
    "\n",
    "print(\"Number of even digits:\", even_count)\n"
   ]
  },
  {
   "cell_type": "code",
   "execution_count": null,
   "id": "2275ecec",
   "metadata": {},
   "outputs": [],
   "source": [
    "#3. write a python program where you take any positive integer n, if n is even, divide it by 2 to get n/2. if n is odd multiply it by 3 and add 1 to obtain 3n+1. repeat the process until you reach 1"
   ]
  },
  {
   "cell_type": "code",
   "execution_count": 13,
   "id": "d4cd05e7",
   "metadata": {},
   "outputs": [
    {
     "name": "stdout",
     "output_type": "stream",
     "text": [
      "[12, 6.0, 3.0, 10.0, 5.0, 16.0, 8.0, 4.0, 2.0, 1.0]\n"
     ]
    }
   ],
   "source": [
    "def input_number(x):\n",
    "    num_seq = [x]\n",
    "    if x < 1:\n",
    "       return []\n",
    "    while x > 1:\n",
    "       if x % 2 == 0:\n",
    "         x = x / 2\n",
    "       else:\n",
    "         x = 3 * x + 1\n",
    "    # Added line\n",
    "       num_seq.append(x)    \n",
    "    return num_seq\n",
    "\n",
    "print(input_number(12))\n"
   ]
  },
  {
   "cell_type": "code",
   "execution_count": null,
   "id": "5f44b4ae",
   "metadata": {},
   "outputs": [],
   "source": [
    "#4. write a python program to compute the sum of all the multiples of 3 or 5 below 500"
   ]
  },
  {
   "cell_type": "code",
   "execution_count": 14,
   "id": "eb16d9c4",
   "metadata": {},
   "outputs": [
    {
     "name": "stdout",
     "output_type": "stream",
     "text": [
      "The sum of multiples of 3 or 5 below 500 is: 57918\n"
     ]
    }
   ],
   "source": [
    "total_sum = 0\n",
    "for num in range(1, 500):\n",
    "    if num % 3 == 0 or num % 5 == 0:\n",
    "        total_sum += num\n",
    "print(\"The sum of multiples of 3 or 5 below 500 is:\", total_sum)"
   ]
  },
  {
   "cell_type": "code",
   "execution_count": null,
   "id": "e85cc928",
   "metadata": {},
   "outputs": [],
   "source": [
    "#5. write a python program to find first 'n' prime numbers from a list of given numbers."
   ]
  },
  {
   "cell_type": "code",
   "execution_count": 18,
   "id": "2ebdce9a",
   "metadata": {},
   "outputs": [
    {
     "name": "stdout",
     "output_type": "stream",
     "text": [
      "Enter the value of 'n': 5\n",
      "The first 5 prime numbers from the given list are:\n",
      "[2, 3, 5, 7, 11]\n"
     ]
    }
   ],
   "source": [
    "def is_prime(num):\n",
    "    if num <= 1:\n",
    "        return False\n",
    "    if num <= 3:\n",
    "        return True\n",
    "    if num % 2 == 0 or num % 3 == 0:\n",
    "        return False\n",
    "    i = 5\n",
    "    while i * i <= num:\n",
    "        if num % i == 0 or num % (i + 2) == 0:\n",
    "            return False\n",
    "        i += 6\n",
    "    return True\n",
    "\n",
    "def find_n_prime(numbers, n):\n",
    "    prime_numbers = []\n",
    "    for num in numbers:\n",
    "        if is_prime(num):\n",
    "            prime_numbers.append(num)\n",
    "            if len(prime_numbers) == n:\n",
    "                break\n",
    "    return prime_numbers\n",
    "\n",
    "n = int(input(\"Enter the value of 'n': \"))\n",
    "\n",
    "prime_list = find_n_prime(given_numbers, n)\n",
    "\n",
    "if prime_list:\n",
    "    print(f\"The first {n} prime numbers from the given list are:\")\n",
    "    print(prime_list)\n",
    "else:\n",
    "    print(\"No prime numbers found.\")\n",
    "\n"
   ]
  },
  {
   "cell_type": "code",
   "execution_count": null,
   "id": "c799bb65",
   "metadata": {},
   "outputs": [],
   "source": [
    "#6. write a program to compute matrix multiplication"
   ]
  },
  {
   "cell_type": "code",
   "execution_count": 20,
   "id": "d52f6436",
   "metadata": {},
   "outputs": [
    {
     "name": "stdout",
     "output_type": "stream",
     "text": [
      "Matrix A:\n",
      "[1, 2, 3]\n",
      "[4, 5, 6]\n",
      "\n",
      "Matrix B:\n",
      "[7, 8]\n",
      "[9, 10]\n",
      "[11, 12]\n",
      "\n",
      "Resultant Matrix:\n",
      "[58, 64]\n",
      "[139, 154]\n"
     ]
    }
   ],
   "source": [
    "def matrix_multiply(matrix1, matrix2):\n",
    "    result = []\n",
    "\n",
    "    # Check if the matrices can be multiplied\n",
    "    if len(matrix1[0]) != len(matrix2):\n",
    "        print(\"Matrix multiplication is not possible. Number of columns in the first matrix must be equal to the number of rows in the second matrix.\")\n",
    "        return None\n",
    "\n",
    "    # Initialize the result matrix with zeros\n",
    "    for i in range(len(matrix1)):\n",
    "        row = []\n",
    "        for j in range(len(matrix2[0])):\n",
    "            row.append(0)\n",
    "        result.append(row)\n",
    "\n",
    "    # Perform matrix multiplication\n",
    "    for i in range(len(matrix1)):\n",
    "        for j in range(len(matrix2[0])):\n",
    "            for k in range(len(matrix2)):\n",
    "                result[i][j] += matrix1[i][k] * matrix2[k][j]\n",
    "\n",
    "    return result\n",
    "\n",
    "matrix_a = [[1, 2, 3], [4, 5, 6]]\n",
    "matrix_b = [[7, 8], [9, 10], [11, 12]]\n",
    "\n",
    "result_matrix = matrix_multiply(matrix_a, matrix_b)\n",
    "\n",
    "if result_matrix:\n",
    "    print(\"Matrix A:\")\n",
    "    for row in matrix_a:\n",
    "        print(row)\n",
    "    print(\"\\nMatrix B:\")\n",
    "    for row in matrix_b:\n",
    "        print(row)\n",
    "    print(\"\\nResultant Matrix:\")\n",
    "    for row in result_matrix:\n",
    "        print(row)\n"
   ]
  },
  {
   "cell_type": "code",
   "execution_count": null,
   "id": "f09b79a3",
   "metadata": {},
   "outputs": [],
   "source": [
    "#7. write a python function to count the number of vowels in a string"
   ]
  },
  {
   "cell_type": "code",
   "execution_count": 27,
   "id": "e4333f5f",
   "metadata": {},
   "outputs": [
    {
     "name": "stdout",
     "output_type": "stream",
     "text": [
      "Enter a string: apple\n",
      "Number of vowels in the string: 2\n"
     ]
    }
   ],
   "source": [
    "def count_vow(input_string):\n",
    "    vowels = set(\"AEIOUaeiou\")\n",
    "    vow_count = 0\n",
    "    for char in input_string:\n",
    "        if char in vowels:\n",
    "            vow_count = vow_count + 1\n",
    "    \n",
    "    return vow_count\n",
    "input_string = input(\"Enter a string: \")\n",
    "vow_count = count_vow(input_string)\n",
    "print(\"Number of vowels in the string:\", vow_count)\n"
   ]
  },
  {
   "cell_type": "code",
   "execution_count": null,
   "id": "b59d8909",
   "metadata": {},
   "outputs": [],
   "source": [
    "#8. write a python function for finding factorial."
   ]
  },
  {
   "cell_type": "code",
   "execution_count": 29,
   "id": "f8874a36",
   "metadata": {},
   "outputs": [
    {
     "name": "stdout",
     "output_type": "stream",
     "text": [
      "Enter a number: 5\n",
      "The factorial of 5 is 120\n"
     ]
    }
   ],
   "source": [
    "def factorial(n):\n",
    "    if n == 0:\n",
    "        return 1\n",
    "    else:\n",
    "        return n * factorial(n - 1)\n",
    "\n",
    "n = int(input(\"Enter a number: \"))\n",
    "\n",
    "if n < 0:\n",
    "    print(\"cannot be determined for negative values.\")\n",
    "else:\n",
    "    result = factorial(n)\n",
    "    print(f\"The factorial of {n} is {result}\")"
   ]
  },
  {
   "cell_type": "code",
   "execution_count": null,
   "id": "d0cfd44c",
   "metadata": {},
   "outputs": [],
   "source": [
    "#9. write a python function for finding fibonacci series."
   ]
  },
  {
   "cell_type": "code",
   "execution_count": 30,
   "id": "09dbb077",
   "metadata": {},
   "outputs": [
    {
     "name": "stdout",
     "output_type": "stream",
     "text": [
      "Enter the number of Fibonacci numbers to generate: 5\n",
      "Fibonacci series:\n",
      "[0, 1, 1, 2, 3]\n"
     ]
    }
   ],
   "source": [
    "def fib(n):\n",
    "    if n <= 0:\n",
    "        return []\n",
    "    elif n == 1:\n",
    "        return [0]\n",
    "    elif n == 2:\n",
    "        return [0, 1]\n",
    "    else:\n",
    "        fib_series = fib(n - 1)\n",
    "        fib_series.append(fib_series[-1] + fib_series[-2])\n",
    "        return fib_series\n",
    "\n",
    "num = int(input(\"Enter the number of Fibonacci numbers to generate: \"))\n",
    "\n",
    "if num <= 0:\n",
    "    print(\"Please enter a positive integer.\")\n",
    "else:\n",
    "    fib_series = fib(num)\n",
    "    print(\"Fibonacci series:\")\n",
    "    print(fib_series)\n"
   ]
  },
  {
   "cell_type": "code",
   "execution_count": null,
   "id": "7c0d1c81",
   "metadata": {},
   "outputs": [],
   "source": [
    "#10. python program to display the given integer in reverse order without using inbuilt function."
   ]
  },
  {
   "cell_type": "code",
   "execution_count": 32,
   "id": "834de5c0",
   "metadata": {},
   "outputs": [
    {
     "name": "stdout",
     "output_type": "stream",
     "text": [
      "Enter an integer: 74\n",
      "Reversed integer: 47\n"
     ]
    }
   ],
   "source": [
    "def rev_integer(num):\n",
    "    is_negative = False\n",
    "    if num < 0:\n",
    "        is_negative = True\n",
    "        num = -num\n",
    "\n",
    "    rev_str = \"\"\n",
    "    while num > 0:\n",
    "        digit = num % 10\n",
    "        rev_str += str(digit)\n",
    "        num //= 10\n",
    "\n",
    "    if is_negative:\n",
    "        rev_str = \"-\" + rev_str\n",
    "\n",
    "    return int(rev_str)\n",
    "\n",
    "num = int(input(\"Enter an integer: \"))\n",
    "rev_num = rev_integer(num)\n",
    "print(\"Reversed integer:\", rev_num)\n"
   ]
  },
  {
   "cell_type": "code",
   "execution_count": null,
   "id": "57d9ebbb",
   "metadata": {},
   "outputs": [],
   "source": [
    "#11. write a python function to display all integers within the range 200-300 whose sum is even."
   ]
  },
  {
   "cell_type": "code",
   "execution_count": 34,
   "id": "b9fc589b",
   "metadata": {},
   "outputs": [
    {
     "name": "stdout",
     "output_type": "stream",
     "text": [
      "Integers in the range 200-300 with an even sum of digits:\n",
      "[200, 202, 204, 206, 208, 211, 213, 215, 217, 219, 220, 222, 224, 226, 228, 231, 233, 235, 237, 239, 240, 242, 244, 246, 248, 251, 253, 255, 257, 259, 260, 262, 264, 266, 268, 271, 273, 275, 277, 279, 280, 282, 284, 286, 288, 291, 293, 295, 297, 299]\n"
     ]
    }
   ],
   "source": [
    "def sum_of_dig(num):\n",
    "    digit_sum = sum(int(digit) for digit in str(num))\n",
    "    return digit_sum % 2 == 0\n",
    "\n",
    "def even_digit_sum(start, end):\n",
    "    result = []\n",
    "    for num in range(start, end + 1):\n",
    "        if sum_of_dig(num):\n",
    "            result.append(num)\n",
    "    return result\n",
    "start = 200\n",
    "end = 300\n",
    "\n",
    "even_digit_sum_numbers = even_digit_sum(start, end)\n",
    "print(\"Integers in the range {}-{} with an even sum of digits:\".format(start, end))\n",
    "print(even_digit_sum_numbers)\n"
   ]
  },
  {
   "cell_type": "code",
   "execution_count": 36,
   "id": "62aa4d9d",
   "metadata": {},
   "outputs": [],
   "source": [
    "#12. write a python function to find the number of digits and sum of digits for a given integer."
   ]
  },
  {
   "cell_type": "code",
   "execution_count": 35,
   "id": "de8deb64",
   "metadata": {},
   "outputs": [
    {
     "name": "stdout",
     "output_type": "stream",
     "text": [
      "Enter an integer: 67\n",
      "Number of digits: 2\n",
      "Sum of digits: 13\n"
     ]
    }
   ],
   "source": [
    "def find_digits_and_sum(num):\n",
    "    num_of_digits = 0\n",
    "    digit_sum = 0\n",
    "    num = abs(num)\n",
    "    \n",
    "    while num > 0:\n",
    "        digit = num % 10  \n",
    "        digit_sum += digit  \n",
    "        num //= 10 \n",
    "        num_of_digits += 1  \n",
    "    \n",
    "    return num_of_digits, digit_sum\n",
    "\n",
    "num = int(input(\"Enter an integer: \"))\n",
    "digits, sum_of_digits = find_digits_and_sum(num)\n",
    "print(\"Number of digits:\", digits)\n",
    "print(\"Sum of digits:\", sum_of_digits)\n"
   ]
  },
  {
   "cell_type": "code",
   "execution_count": null,
   "id": "207fb2b6",
   "metadata": {},
   "outputs": [],
   "source": [
    "#13. write functions called is_sorted that takes a list as parameter and returns True if the list is sorted in ascending order and False otherwise and has_duplicates that takes a list and returns True if there is any element that appears more than once. It should not modify the original list"
   ]
  },
  {
   "cell_type": "code",
   "execution_count": 37,
   "id": "421c862d",
   "metadata": {},
   "outputs": [
    {
     "name": "stdout",
     "output_type": "stream",
     "text": [
      "Is the list sorted in ascending order? True\n",
      "Does the list have duplicate elements? True\n"
     ]
    }
   ],
   "source": [
    "def is_sorted(input_list):\n",
    "    \n",
    "    if len(input_list) <= 1:\n",
    "        return True\n",
    "    \n",
    "    for i in range(1, len(input_list)):\n",
    "        if input_list[i] < input_list[i - 1]:\n",
    "            return False\n",
    "    return True\n",
    "\n",
    "def has_duplicates(input_list):\n",
    "    \n",
    "    unique_elements = set()\n",
    "    \n",
    "    for item in input_list:\n",
    "        if item in unique_elements:\n",
    "            return True\n",
    "        unique_elements.add(item)\n",
    "    \n",
    "    return False\n",
    "\n",
    "my_list = [1, 2, 3, 3, 4, 5]\n",
    "\n",
    "sorted_status = is_sorted(my_list)\n",
    "duplicate_status = has_duplicates(my_list)\n",
    "\n",
    "print(\"Is the list sorted in ascending order?\", sorted_status)\n",
    "print(\"Does the list have duplicate elements?\", duplicate_status)\n"
   ]
  },
  {
   "cell_type": "code",
   "execution_count": null,
   "id": "f7f0a9ef",
   "metadata": {},
   "outputs": [],
   "source": [
    "#14. write functions called nested_sum that takes a list of integers and adds up the elements from all the nested lists and cumsum that takes a list of numbers and returns the cumulative sum; that is, a new list where the ith element is the sum of the first i+1 elements from the original list"
   ]
  },
  {
   "cell_type": "code",
   "execution_count": 38,
   "id": "952d9ed8",
   "metadata": {},
   "outputs": [
    {
     "name": "stdout",
     "output_type": "stream",
     "text": [
      "Sum of all elements in nested list: 36\n",
      "Cumulative sum of the list: [1, 3, 6, 10, 15]\n"
     ]
    }
   ],
   "source": [
    "def nested_sum(nested_list):\n",
    "    total_sum = 0\n",
    "    for sublist in nested_list:\n",
    "        total_sum += sum(sublist)\n",
    "    return total_sum\n",
    "\n",
    "def cumsum(numbers):\n",
    "    cumulative_sum = []\n",
    "    current_sum = 0\n",
    "    for num in numbers:\n",
    "        current_sum += num\n",
    "        cumulative_sum.append(current_sum)\n",
    "    return cumulative_sum\n",
    "\n",
    "nested_numbers = [[1, 2, 3], [4, 5], [6, 7, 8]]\n",
    "result_sum = nested_sum(nested_numbers)\n",
    "print(\"Sum of all elements in nested list:\", result_sum)\n",
    "\n",
    "original_list = [1, 2, 3, 4, 5]\n",
    "cumulative_result = cumsum(original_list)\n",
    "print(\"Cumulative sum of the list:\", cumulative_result)\n"
   ]
  },
  {
   "cell_type": "code",
   "execution_count": null,
   "id": "926eface",
   "metadata": {},
   "outputs": [],
   "source": []
  }
 ],
 "metadata": {
  "kernelspec": {
   "display_name": "Python 3 (ipykernel)",
   "language": "python",
   "name": "python3"
  },
  "language_info": {
   "codemirror_mode": {
    "name": "ipython",
    "version": 3
   },
   "file_extension": ".py",
   "mimetype": "text/x-python",
   "name": "python",
   "nbconvert_exporter": "python",
   "pygments_lexer": "ipython3",
   "version": "3.11.4"
  }
 },
 "nbformat": 4,
 "nbformat_minor": 5
}
