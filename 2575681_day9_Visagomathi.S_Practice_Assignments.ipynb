{
 "cells": [
  {
   "cell_type": "markdown",
   "id": "ba42824c",
   "metadata": {},
   "source": [
    "# 1.create a 3x3x3 array with random values."
   ]
  },
  {
   "cell_type": "code",
   "execution_count": 3,
   "id": "4bf8d2e0",
   "metadata": {},
   "outputs": [
    {
     "name": "stdout",
     "output_type": "stream",
     "text": [
      "[[[0.80625051 0.69142097 0.77594157]\n",
      "  [0.70942077 0.77730167 0.4272862 ]\n",
      "  [0.22025869 0.79108056 0.23224013]]\n",
      "\n",
      " [[0.20381146 0.62422813 0.48118967]\n",
      "  [0.19459413 0.74434322 0.36993047]\n",
      "  [0.5287267  0.85273725 0.82610713]]\n",
      "\n",
      " [[0.99835516 0.87388642 0.96983177]\n",
      "  [0.27712065 0.68213192 0.2916535 ]\n",
      "  [0.16982425 0.914502   0.07554566]]]\n"
     ]
    }
   ],
   "source": [
    "import numpy as np\n",
    "random_array = np.random.rand(3, 3, 3)\n",
    "\n",
    "print(random_array)\n"
   ]
  },
  {
   "cell_type": "markdown",
   "id": "4d477c8d",
   "metadata": {},
   "source": [
    "# 2.Create a 5x5 matrix with values 1,2,3,4 just below the diagonal."
   ]
  },
  {
   "cell_type": "code",
   "execution_count": 4,
   "id": "7bb4fef2",
   "metadata": {},
   "outputs": [
    {
     "name": "stdout",
     "output_type": "stream",
     "text": [
      "[[0. 0. 0. 0. 0.]\n",
      " [1. 0. 0. 0. 0.]\n",
      " [0. 2. 0. 0. 0.]\n",
      " [0. 0. 3. 0. 0.]\n",
      " [0. 0. 0. 4. 0.]]\n"
     ]
    }
   ],
   "source": [
    "import numpy as np\n",
    "\n",
    "matrix = np.zeros((5, 5))\n",
    "np.fill_diagonal(matrix[1:], [1, 2, 3, 4])\n",
    "\n",
    "print(matrix)\n"
   ]
  },
  {
   "cell_type": "markdown",
   "id": "25c38d97",
   "metadata": {},
   "source": [
    "# 3. create a 8x8 matrix and fill it with a checkerboard pattern"
   ]
  },
  {
   "cell_type": "code",
   "execution_count": 5,
   "id": "89af9feb",
   "metadata": {},
   "outputs": [
    {
     "name": "stdout",
     "output_type": "stream",
     "text": [
      "[[1 0 1 0 1 0 1 0]\n",
      " [0 1 0 1 0 1 0 1]\n",
      " [1 0 1 0 1 0 1 0]\n",
      " [0 1 0 1 0 1 0 1]\n",
      " [1 0 1 0 1 0 1 0]\n",
      " [0 1 0 1 0 1 0 1]\n",
      " [1 0 1 0 1 0 1 0]\n",
      " [0 1 0 1 0 1 0 1]]\n"
     ]
    }
   ],
   "source": [
    "import numpy as np\n",
    "matrix = np.zeros((8, 8), dtype=int)\n",
    "matrix[::2, ::2] = 1\n",
    "matrix[1::2, 1::2] = 1\n",
    "\n",
    "print(matrix)\n"
   ]
  },
  {
   "cell_type": "markdown",
   "id": "eafe2c1b",
   "metadata": {},
   "source": [
    "# 4. Normalize a 5x5 random matrix"
   ]
  },
  {
   "cell_type": "code",
   "execution_count": 6,
   "id": "9e7bd0fa",
   "metadata": {},
   "outputs": [
    {
     "name": "stdout",
     "output_type": "stream",
     "text": [
      "Original Random Matrix:\n",
      "[[0.16145193 0.54000234 0.99259023 0.4751466  0.66339014]\n",
      " [0.57089782 0.66645106 0.926538   0.71892742 0.42156741]\n",
      " [0.83075664 0.15157122 0.51277586 0.3630217  0.22122797]\n",
      " [0.12418229 0.46278275 0.70649099 0.92520808 0.35037999]\n",
      " [0.51083315 0.77687437 0.85007629 0.53915394 0.45715805]]\n",
      "\n",
      "Normalized Matrix:\n",
      "[[0.04291721 0.47883032 1.         0.40414683 0.62091538]\n",
      " [0.51440747 0.62444014 0.92393871 0.68486837 0.34244864]\n",
      " [0.81364336 0.03153925 0.44747814 0.27503136 0.11175126]\n",
      " [0.         0.38990945 0.67054742 0.92240727 0.26047401]\n",
      " [0.44524104 0.75159617 0.83589056 0.47785336 0.38343243]]\n"
     ]
    }
   ],
   "source": [
    "import numpy as np\n",
    "\n",
    "# Create a random 5x5 matrix\n",
    "random_matrix = np.random.rand(5, 5)\n",
    "\n",
    "min_val = np.min(random_matrix)\n",
    "max_val = np.max(random_matrix)\n",
    "\n",
    "# Normalizing the matrix\n",
    "normalized_matrix = (random_matrix - min_val) / (max_val - min_val)\n",
    "\n",
    "print(\"Original Random Matrix:\")\n",
    "print(random_matrix)\n",
    "print(\"\\nNormalized Matrix:\")\n",
    "print(normalized_matrix)\n"
   ]
  },
  {
   "cell_type": "markdown",
   "id": "048e6240",
   "metadata": {},
   "source": [
    "# 5. How to find common values between two arrays?"
   ]
  },
  {
   "cell_type": "code",
   "execution_count": 9,
   "id": "3f320737",
   "metadata": {},
   "outputs": [
    {
     "name": "stdout",
     "output_type": "stream",
     "text": [
      "Array1: [1 2 3 4 5]\n",
      "Array2: [6 7 8 9 1]\n",
      "Common Values: [1]\n"
     ]
    }
   ],
   "source": [
    "import numpy as np\n",
    "s\n",
    "array1 = np.array([1, 2, 3, 4, 5])\n",
    "array2 = np.array([6, 7, 8, 9, 1])\n",
    "\n",
    "common_values = np.intersect1d(array1, array2)\n",
    "\n",
    "print(\"Array1:\", array1)\n",
    "print(\"Array2:\", array2)\n",
    "print(\"Common Values:\", common_values)\n"
   ]
  },
  {
   "cell_type": "markdown",
   "id": "9f8bc839",
   "metadata": {},
   "source": [
    "# 6.How to get the dates of yesterday, today and tomorrow?"
   ]
  },
  {
   "cell_type": "code",
   "execution_count": 36,
   "id": "b40af72a",
   "metadata": {},
   "outputs": [
    {
     "name": "stdout",
     "output_type": "stream",
     "text": [
      "Yesterday's date: 20-09-2023\n",
      "Today's date: 21-09-2023\n",
      "Tomorrow's date: 22-09-2023\n"
     ]
    }
   ],
   "source": [
    "import numpy as np\n",
    "from datetime import datetime, timedelta\n",
    "\n",
    "# Get the current date\n",
    "current_date = datetime.now()\n",
    "\n",
    "current_date_np = np.datetime64(current_date)\n",
    "\n",
    "# Calculate yesterday and tomorrow\n",
    "yesterday_np = current_date_np - np.timedelta64(1, 'D')\n",
    "tomorrow_np = current_date_np + np.timedelta64(1, 'D')\n",
    "\n",
    "yesterday = yesterday_np.item()\n",
    "today = current_date_np.item()\n",
    "tomorrow = tomorrow_np.item()\n",
    "\n",
    "yesterday_str = yesterday.strftime(\"%d-%m-%Y\")\n",
    "today_str = today.strftime(\"%d-%m-%Y\")\n",
    "tomorrow_str = tomorrow.strftime(\"%d-%m-%Y\")\n",
    "\n",
    "# Print the dates\n",
    "print(\"Yesterday's date:\", yesterday_str)\n",
    "print(\"Today's date:\", today_str)\n",
    "print(\"Tomorrow's date:\", tomorrow_str)\n"
   ]
  },
  {
   "cell_type": "markdown",
   "id": "6a59a220",
   "metadata": {},
   "source": [
    "# 7. Consider two random array A and B , check if they are equal."
   ]
  },
  {
   "cell_type": "code",
   "execution_count": 37,
   "id": "0e8984f2",
   "metadata": {},
   "outputs": [
    {
     "name": "stdout",
     "output_type": "stream",
     "text": [
      "The two Arrays A and B are not equal.\n"
     ]
    }
   ],
   "source": [
    "import numpy as np\n",
    "\n",
    "A = np.random.rand(5)\n",
    "B = np.random.rand(5)\n",
    "\n",
    "# Check if A and B are equal\n",
    "are_equal = np.array_equal(A, B)\n",
    "\n",
    "if are_equal:\n",
    "    print(\"Arrays A and B are equal.\")\n",
    "else:\n",
    "    print(\"The two Arrays A and B are not equal.\")\n"
   ]
  },
  {
   "cell_type": "markdown",
   "id": "edbbc50d",
   "metadata": {},
   "source": [
    "# 8. Create a random vector of size 10 and replace the maximum value by 0"
   ]
  },
  {
   "cell_type": "code",
   "execution_count": 38,
   "id": "944d9f89",
   "metadata": {},
   "outputs": [
    {
     "name": "stdout",
     "output_type": "stream",
     "text": [
      "Original Vector: [0.03643512 0.54404567 0.82020608 0.51929926 0.09967874 0.\n",
      " 0.83026205 0.78913678 0.52251069 0.25031672]\n"
     ]
    }
   ],
   "source": [
    "import numpy as np\n",
    "\n",
    "random_vector = np.random.rand(10)\n",
    "\n",
    "# Finding the index of the maximum value\n",
    "max_index = np.argmax(random_vector)\n",
    "\n",
    "random_vector[max_index] = 0\n",
    "\n",
    "print(\"Original Vector:\", random_vector)\n"
   ]
  },
  {
   "cell_type": "markdown",
   "id": "bb1f9f1c",
   "metadata": {},
   "source": [
    "# 9. How to print all the values of an array?"
   ]
  },
  {
   "cell_type": "code",
   "execution_count": 16,
   "id": "2dd1b7d2",
   "metadata": {},
   "outputs": [
    {
     "name": "stdout",
     "output_type": "stream",
     "text": [
      "[11 22 43 34 95]\n"
     ]
    }
   ],
   "source": [
    "import numpy as np\n",
    "\n",
    "my_array = np.array([11, 22, 43, 34, 95])\n",
    "print(my_array)\n"
   ]
  },
  {
   "cell_type": "markdown",
   "id": "e56475ee",
   "metadata": {},
   "source": [
    "# 10. Subtract the mean of each row of a matrix"
   ]
  },
  {
   "cell_type": "code",
   "execution_count": 39,
   "id": "b41199cb",
   "metadata": {},
   "outputs": [
    {
     "name": "stdout",
     "output_type": "stream",
     "text": [
      "Original Matrix:\n",
      "[[1 2 3]\n",
      " [4 5 6]]\n",
      "\n",
      "Row Means:\n",
      "[2. 5.]\n",
      "\n",
      "Row Means Subtracted Matrix:\n",
      "[[-1.  0.  1.]\n",
      " [-1.  0.  1.]]\n"
     ]
    }
   ],
   "source": [
    "import numpy as np\n",
    "\n",
    "# Create a sample matrix (2x3 in this case)\n",
    "matrix = np.array([[1, 2, 3],\n",
    "                   [4, 5, 6]])\n",
    "\n",
    "# Calculate the mean of each row\n",
    "row_means = np.mean(matrix, axis=1)\n",
    "\n",
    "# Subtract the row means from the matrix\n",
    "result_matrix = matrix - row_means.reshape(-1, 1)\n",
    "\n",
    "print(\"Original Matrix:\")\n",
    "print(matrix)\n",
    "\n",
    "print(\"\\nRow Means:\")\n",
    "print(row_means)\n",
    "\n",
    "print(\"\\nRow Means Subtracted Matrix:\")\n",
    "print(result_matrix)\n"
   ]
  },
  {
   "cell_type": "markdown",
   "id": "d1542c47",
   "metadata": {},
   "source": [
    "# 11. Consider a given vector, how to add 1 to each element indexed by a second vector"
   ]
  },
  {
   "cell_type": "code",
   "execution_count": 40,
   "id": "20d92008",
   "metadata": {},
   "outputs": [
    {
     "name": "stdout",
     "output_type": "stream",
     "text": [
      "Given Vector:\n",
      "[10 20 30 40 50]\n",
      "\n",
      "Indices Vector:\n",
      "[1 2 3 2 4]\n",
      "\n",
      "Resultant Vector:\n",
      "[10 21 31 41 51]\n"
     ]
    }
   ],
   "source": [
    "import numpy as np\n",
    "\n",
    "# Given vector\n",
    "given_vector = np.array([10, 20, 30, 40, 50])\n",
    "\n",
    "# Second vector containing indices\n",
    "indices_vector = np.array([1, 2, 3, 2, 4])\n",
    "\n",
    "# Create an array to store the results\n",
    "result_vector = np.copy(given_vector)\n",
    "\n",
    "# Add 1 to elements indexed by the second vector\n",
    "result_vector[indices_vector] += 1\n",
    "\n",
    "print(\"Given Vector:\")\n",
    "print(given_vector)\n",
    "\n",
    "print(\"\\nIndices Vector:\")\n",
    "print(indices_vector)\n",
    "\n",
    "print(\"\\nResultant Vector:\")\n",
    "print(result_vector)\n"
   ]
  },
  {
   "cell_type": "markdown",
   "id": "6e5066ce",
   "metadata": {},
   "source": [
    "# 12. How to get the diagonal of a dot product?"
   ]
  },
  {
   "cell_type": "code",
   "execution_count": 19,
   "id": "7e1f0787",
   "metadata": {},
   "outputs": [
    {
     "name": "stdout",
     "output_type": "stream",
     "text": [
      "Dot Product:\n",
      "[[ 30  24  18]\n",
      " [ 84  69  54]\n",
      " [138 114  90]]\n",
      "\n",
      "Diagonal of Dot Product:\n",
      "[30 69 90]\n"
     ]
    }
   ],
   "source": [
    "import numpy as np\n",
    "\n",
    "# Create two matrices\n",
    "matrix1 = np.array([[1, 2, 3],\n",
    "                    [4, 5, 6],\n",
    "                    [7, 8, 9]])\n",
    "\n",
    "matrix2 = np.array([[9, 8, 7],\n",
    "                    [6, 5, 4],\n",
    "                    [3, 2, 1]])\n",
    "\n",
    "# Compute the dot product of the two matrices\n",
    "dot_product = np.dot(matrix1, matrix2)\n",
    "\n",
    "# Get the diagonal of the dot product using np.diag()\n",
    "diagonal = np.diag(dot_product)\n",
    "\n",
    "print(\"Dot Product:\")\n",
    "print(dot_product)\n",
    "\n",
    "print(\"\\nDiagonal of Dot Product:\")\n",
    "print(diagonal)\n"
   ]
  },
  {
   "cell_type": "markdown",
   "id": "563198a7",
   "metadata": {},
   "source": [
    "# 13.How to find the most frequent value in an array?"
   ]
  },
  {
   "cell_type": "code",
   "execution_count": 24,
   "id": "7a52667b",
   "metadata": {},
   "outputs": [
    {
     "name": "stdout",
     "output_type": "stream",
     "text": [
      "Original Array:\n",
      "[2 3 2 5 6 5 2 3 4 5 5 6 2 5]\n",
      "\n",
      "Most Frequent Value: 5\n"
     ]
    }
   ],
   "source": [
    "import numpy as np\n",
    "\n",
    "# Create an example array\n",
    "arr = np.array([2, 3, 2, 5, 6, 5, 2, 3, 4, 5, 5, 6, 2, 5])\n",
    "\n",
    "# Use numpy.bincount() to count occurrences of each element\n",
    "counts = np.bincount(arr)\n",
    "\n",
    "# Use numpy.argmax() to find the index with the maximum count\n",
    "most_frequent_value = np.argmax(counts)\n",
    "\n",
    "print(\"Original Array:\")\n",
    "print(arr)\n",
    "\n",
    "print(\"\\nMost Frequent Value is:\", most_frequent_value)\n"
   ]
  },
  {
   "cell_type": "markdown",
   "id": "f9a3587e",
   "metadata": {},
   "source": [
    "# 14. How to get the n largest values of an array "
   ]
  },
  {
   "cell_type": "code",
   "execution_count": 26,
   "id": "a6c5c985",
   "metadata": {},
   "outputs": [
    {
     "name": "stdout",
     "output_type": "stream",
     "text": [
      "Original Array:\n",
      "[ 5 12  9  1  3 15  7  8 10]\n",
      "\n",
      "5 Largest Values:\n",
      "[ 8  9 10 12 15]\n"
     ]
    }
   ],
   "source": [
    "import numpy as np\n",
    "\n",
    "# Create an example array\n",
    "arr = np.array([5, 12, 9, 1, 3, 15, 7, 8, 10])\n",
    "\n",
    "# Specify the value of n (number of largest values to retrieve)\n",
    "n = 5\n",
    "\n",
    "# Use numpy.partition() to partition the array\n",
    "partitioned = np.partition(arr, -n)\n",
    "\n",
    "# Get the n largest values from the partitioned array\n",
    "n_largest_values = partitioned[-n:]\n",
    "\n",
    "print(\"Original Array:\")\n",
    "print(arr)\n",
    "\n",
    "print(\"\\n{} Largest Values are:\".format(n))\n",
    "print(n_largest_values)\n"
   ]
  },
  {
   "cell_type": "markdown",
   "id": "8f667c8e",
   "metadata": {},
   "source": [
    "# 15.How to create a record array from a regular array?"
   ]
  },
  {
   "cell_type": "code",
   "execution_count": 30,
   "id": "25262d98",
   "metadata": {},
   "outputs": [
    {
     "name": "stdout",
     "output_type": "stream",
     "text": [
      "Record Array:\n",
      "(('Anu', 24, 8.5), ('Abi', 23, 7.), ('Aruna', 22, 9.2))\n",
      "\n",
      "Names:\n",
      "('Anu', 24, 8.5)\n",
      "\n",
      "Ages:\n",
      "('Abi', 23, 7.)\n",
      "\n",
      "GPAs:\n",
      "('Aruna', 22, 9.2)\n"
     ]
    }
   ],
   "source": [
    "import numpy as np\n",
    "\n",
    "# Create a regular array\n",
    "regular_array = np.array([(\"Anu\", 24, 8.5),\n",
    "                          (\"Abi\", 23, 7.0),\n",
    "                          (\"Aruna\", 22, 9.2)],\n",
    "                         dtype=[('name', 'U10'), ('age', int), ('gpa', float)])\n",
    "\n",
    "# Create a record array from the regular array\n",
    "record_array = np.core.records.fromarrays(regular_array.T, names=\"name,age,gpa\")\n",
    "\n",
    "# Access data in the record array\n",
    "print(\"Record Array:\")\n",
    "print(record_array)\n",
    "\n",
    "# Access individual fields\n",
    "print(\"\\nNames:\")\n",
    "print(record_array[\"name\"])\n",
    "\n",
    "print(\"\\nAges:\")\n",
    "print(record_array[\"age\"])\n",
    "\n",
    "print(\"\\nGPAs:\")\n",
    "print(record_array[\"gpa\"])\n"
   ]
  },
  {
   "cell_type": "markdown",
   "id": "6594851e",
   "metadata": {},
   "source": [
    "# 16. How to swap two rows of an array?"
   ]
  },
  {
   "cell_type": "code",
   "execution_count": 32,
   "id": "4aa30aca",
   "metadata": {},
   "outputs": [
    {
     "name": "stdout",
     "output_type": "stream",
     "text": [
      "Original Array:\n",
      "[[1 2 3]\n",
      " [7 8 9]\n",
      " [4 5 6]]\n"
     ]
    }
   ],
   "source": [
    "import numpy as np\n",
    "\n",
    "# Create an example 2D array\n",
    "arr = np.array([[1, 2, 3],\n",
    "                [4, 5, 6],\n",
    "                [7, 8, 9]])\n",
    "\n",
    "# Swap rows 1 and 2 (0-based indexing)\n",
    "row1, row2 = 1, 2\n",
    "arr[[row1, row2]] = arr[[row2, row1]]\n",
    "\n",
    "print(\"Original Array:\")\n",
    "print(arr)\n"
   ]
  },
  {
   "cell_type": "markdown",
   "id": "e002dfe4",
   "metadata": {},
   "source": [
    "# 17. Write a python code to reshape to next dimension of numpy array?"
   ]
  },
  {
   "cell_type": "code",
   "execution_count": 33,
   "id": "34c211ba",
   "metadata": {},
   "outputs": [
    {
     "name": "stdout",
     "output_type": "stream",
     "text": [
      "Original 1D Array:\n",
      "[1 2 3 4 5 6]\n",
      "\n",
      "Reshaped 2D Array:\n",
      "[[1 2]\n",
      " [3 4]\n",
      " [5 6]]\n"
     ]
    }
   ],
   "source": [
    "import numpy as np\n",
    "\n",
    "# Create a 1D array\n",
    "arr1d = np.array([1, 2, 3, 4, 5, 6])\n",
    "\n",
    "# Reshape the 1D array to a 2D array\n",
    "arr2d = arr1d.reshape(-1, 2)\n",
    "\n",
    "print(\"Original 1D Array:\")\n",
    "print(arr1d)\n",
    "\n",
    "print(\"\\nReshaped 2D Array:\")\n",
    "print(arr2d)\n"
   ]
  }
 ],
 "metadata": {
  "kernelspec": {
   "display_name": "Python 3 (ipykernel)",
   "language": "python",
   "name": "python3"
  },
  "language_info": {
   "codemirror_mode": {
    "name": "ipython",
    "version": 3
   },
   "file_extension": ".py",
   "mimetype": "text/x-python",
   "name": "python",
   "nbconvert_exporter": "python",
   "pygments_lexer": "ipython3",
   "version": "3.11.4"
  }
 },
 "nbformat": 4,
 "nbformat_minor": 5
}
